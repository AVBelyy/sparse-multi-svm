{
 "cells": [
  {
   "cell_type": "code",
   "execution_count": 1,
   "metadata": {},
   "outputs": [],
   "source": [
    "%load_ext autoreload\n",
    "%autoreload 2\n",
    "%matplotlib inline\n",
    "import pickle\n",
    "import numpy as np\n",
    "from scipy import sparse\n",
    "import pandas as pd\n",
    "import matplotlib.pyplot as plt\n",
    "from sklearn.datasets import load_iris \n",
    "from scipy.sparse import csr_matrix\n",
    "from lib.gradient_tools import BasicGradientUpdater\n",
    "from sklearn.svm import SVC\n",
    "from sklearn.metrics import classification_report, roc_auc_score\n",
    "from sklearn.metrics.pairwise import linear_kernel\n",
    "from lib.sparse_tools import sparse_clip, sparse_pos_clip, dense_pos_clip, sparse_sparse_dot, dense_sparse_add, \\\n",
    "                             dense_sparse_mul, sparse_sub_with_clip"
   ]
  },
  {
   "cell_type": "code",
   "execution_count": 2,
   "metadata": {},
   "outputs": [],
   "source": [
    "iris_data = load_iris()"
   ]
  },
  {
   "cell_type": "code",
   "execution_count": 3,
   "metadata": {},
   "outputs": [],
   "source": [
    "km = csr_matrix(linear_kernel(iris_data[\"data\"]))\n",
    "n = km.shape[0]\n",
    "y = iris_data[\"target\"]\n",
    "y[y > 0] = 1"
   ]
  },
  {
   "cell_type": "markdown",
   "metadata": {},
   "source": [
    "-----"
   ]
  },
  {
   "cell_type": "markdown",
   "metadata": {},
   "source": [
    "## SkLearn"
   ]
  },
  {
   "cell_type": "code",
   "execution_count": 4,
   "metadata": {},
   "outputs": [
    {
     "name": "stdout",
     "output_type": "stream",
     "text": [
      "             precision    recall  f1-score   support\n",
      "\n",
      "          0       1.00      1.00      1.00        50\n",
      "          1       1.00      1.00      1.00       100\n",
      "\n",
      "avg / total       1.00      1.00      1.00       150\n",
      "\n",
      "1.0\n",
      "CPU times: user 6.14 ms, sys: 1.63 ms, total: 7.76 ms\n",
      "Wall time: 8.07 ms\n"
     ]
    }
   ],
   "source": [
    "%%time\n",
    "y = [0] * 50 + [1]*100\n",
    "clf = SVC(kernel=\"precomputed\", probability=True)\n",
    "clf.fit(km.toarray(), y)\n",
    "print(classification_report(y, clf.predict(km.toarray())))\n",
    "print(roc_auc_score(y, clf.predict_proba(km.toarray())[:, 1]))"
   ]
  },
  {
   "cell_type": "code",
   "execution_count": 5,
   "metadata": {},
   "outputs": [
    {
     "data": {
      "text/plain": [
       "array([23, 41, 98], dtype=int32)"
      ]
     },
     "execution_count": 5,
     "metadata": {},
     "output_type": "execute_result"
    }
   ],
   "source": [
    "clf.support_"
   ]
  },
  {
   "cell_type": "markdown",
   "metadata": {},
   "source": [
    "## Ours"
   ]
  },
  {
   "cell_type": "code",
   "execution_count": 39,
   "metadata": {},
   "outputs": [],
   "source": [
    "# Input:\n",
    "# km: csr_matrix\n",
    "# y: np.array\n",
    "\n",
    "C = 1.0\n",
    "γ = 500000. # O(n)\n",
    "L1 = 2*γ\n",
    "ε = 1e-3\n",
    "n_iter = 500\n",
    "\n",
    "\n",
    "inv2nC = 1. / (2 * n * C)\n",
    "invL1 = 1. / L1\n",
    "fracCL1 = C / L1\n",
    "\n",
    "y = np.array([+1.] * 50 + [-1.] * 100)\n",
    "\n",
    "# γy = γ * y"
   ]
  },
  {
   "cell_type": "code",
   "execution_count": 40,
   "metadata": {},
   "outputs": [],
   "source": [
    "def grad_f(x):\n",
    "    t = x.copy()\n",
    "    t.data -= 1 / (2 * n * C)\n",
    "    return (-csr_matrix([1] * n).T + km.multiply(y.reshape(1, -1) * y.reshape(-1, 1)).dot(x.T) + \\\n",
    "           γ*sparse_clip(-x.T, 0, None) + γ*sparse_clip(t.T, 0, None)).T"
   ]
  },
  {
   "cell_type": "code",
   "execution_count": 41,
   "metadata": {},
   "outputs": [
    {
     "name": "stdout",
     "output_type": "stream",
     "text": [
      "CPU times: user 2.63 s, sys: 33.4 ms, total: 2.66 s\n",
      "Wall time: 2.69 s\n"
     ]
    }
   ],
   "source": [
    "%%time\n",
    "\n",
    "# Initialize gradient heap\n",
    "\n",
    "ν = csr_matrix(([0., 0.], [1, 2], [0, 2]), shape=(1, n))\n",
    "\n",
    "# grad1 = dense_sparse_add(-y, 2 * (km[0] - km[1]))\n",
    "\n",
    "# yν_ = dense_sparse_mul(y, ν)\n",
    "# yν1 = sparse_pos_clip(-yν_)\n",
    "# yν2 = sparse_sub_with_clip(yν_, inv2nC)\n",
    "# grad2 = dense_sparse_mul(γy, yν1 + yν2)\n",
    "\n",
    "# grad = dense_sparse_add(grad1, grad2)\n",
    "# min_heap = BasicGradientUpdater(grad)\n",
    "# max_heap = BasicGradientUpdater(-grad)\n",
    "\n",
    "# Iterate until stopping criteria is met\n",
    "\n",
    "norms = []\n",
    "h_vals = []\n",
    "\n",
    "for t in range(n_iter):\n",
    "    ν_prev = ν.copy()\n",
    "    \n",
    "    current_grad = dense_sparse_mul(y, grad_f(dense_sparse_mul(y, ν)))\n",
    "    norms.append(sparse.linalg.norm(current_grad))\n",
    "    \n",
    "    min_ix = current_grad.argmin()\n",
    "    max_ix = current_grad.argmax()\n",
    "    min_val = current_grad.min()\n",
    "    max_val = current_grad.max()\n",
    "    h_val = fracCL1 * (max_val - min_val)\n",
    "    h_vec = csr_matrix(([-h_val, +h_val], [min_ix, max_ix], [0, 2]), shape=(1, n))\n",
    "    h_vec.sort_indices()\n",
    "    h_vals.append(h_val)\n",
    "\n",
    "    ν += h_vec\n",
    "    assert np.abs(ν.sum()) <= 1e-6\n",
    "\n",
    "    # Gradient update\n",
    "#     νinvL1h = ν_prev + invL1 * h_vec\n",
    "#     δ1 = (2 * h_val / L1) * (km[min_ix] - km[max_ix])\n",
    "#     δ21 =  sparse_pos_clip(dense_sparse_mul(-y, νinvL1h))\n",
    "#     δ22 = -sparse_pos_clip(dense_sparse_mul(-y, ν_prev))\n",
    "#     δ23 =  sparse_sub_with_clip(dense_sparse_mul(y, νinvL1h), inv2nC)\n",
    "#     δ24 = -sparse_sub_with_clip(dense_sparse_mul(y, ν_prev), inv2nC)\n",
    "#     δ2 = dense_sparse_mul(γy, δ21 + δ22 + δ23 + δ24)\n",
    "#     δ = δ1 + δ2\n",
    "#     δ = np.asarray(dense_sparse_mul(y, grad_f(dense_sparse_mul(y, ν))) - min_heap.get())[0]\n",
    "\n",
    "λ = dense_sparse_mul(y, ν)"
   ]
  },
  {
   "cell_type": "code",
   "execution_count": 42,
   "metadata": {},
   "outputs": [
    {
     "data": {
      "text/plain": [
       "array([[ -2.67079248e-06,  -2.67079031e-06,  -2.67097791e-06,\n",
       "         -2.67081022e-06,  -2.67084416e-06,  -2.66659215e-06,\n",
       "         -2.67089902e-06,  -2.67072167e-06,  -2.66714917e-06,\n",
       "         -2.67074963e-06,  -2.67062926e-06,  -2.67069045e-06,\n",
       "         -2.67084680e-06,  -2.66751083e-06,  -2.66700612e-06,\n",
       "         -2.67054916e-06,  -2.66694899e-06,  -2.67075172e-06,\n",
       "         -2.66651489e-06,  -2.67069795e-06,  -2.66659565e-06,\n",
       "         -2.66684708e-06,  -2.66753317e-06,  -2.67036206e-06,\n",
       "         -2.66663181e-06,  -2.67056319e-06,  -2.67055332e-06,\n",
       "         -2.66688677e-06,  -2.67073961e-06,  -2.67070412e-06,\n",
       "         -2.66689317e-06,  -2.67051102e-06,  -2.67078759e-06,\n",
       "         -2.67076352e-06,  -2.66693249e-06,  -2.67096981e-06,\n",
       "         -2.67074738e-06,  -2.67074418e-06,  -2.67104331e-06,\n",
       "         -2.67067979e-06,  -2.67088480e-06,  -2.67087583e-06,\n",
       "         -2.67107715e-06,  -2.66668091e-06,  -2.66654276e-06,\n",
       "         -2.66697094e-06,  -2.66686235e-06,  -2.66712874e-06,\n",
       "         -2.66684766e-06,  -2.67079874e-06,  -1.33337681e-06,\n",
       "         -1.33680969e-06,  -1.33358562e-06,  -1.33610791e-06,\n",
       "         -1.33701970e-06,  -1.33653952e-06,  -1.33320413e-06,\n",
       "         -1.33135463e-06,  -1.33315686e-06,  -1.33588368e-06,\n",
       "         -1.33163044e-06,  -1.33261263e-06,  -1.33239545e-06,\n",
       "         -1.33311788e-06,  -1.33572026e-06,  -1.33301859e-06,\n",
       "         -1.33654323e-06,  -1.33616012e-06,  -1.33311153e-06,\n",
       "         -1.33590883e-06,  -1.33325328e-06,  -1.33626023e-06,\n",
       "         -1.33346478e-06,  -1.33682971e-06,  -1.33662448e-06,\n",
       "         -1.33676906e-06,  -1.33346333e-06,  -1.33369319e-06,\n",
       "         -1.33672124e-06,  -1.33176957e-06,  -1.33583114e-06,\n",
       "         -1.33572513e-06,  -1.33602121e-06,  -1.33356433e-06,\n",
       "         -1.33273004e-06,  -1.33290909e-06,  -1.33333169e-06,\n",
       "         -1.33670794e-06,  -1.33614076e-06,  -1.33230135e-06,\n",
       "         -1.33637163e-06,  -1.33301090e-06,  -1.33234676e-06,\n",
       "         -1.33140464e-06,  -1.33248078e-06,  -1.33243728e-06,\n",
       "         -1.33627114e-06,  -1.33656445e-06,  -1.33116380e-06,\n",
       "         -1.33240821e-06,  -1.33473993e-06,  -1.33361235e-06,\n",
       "         -1.33480743e-06,  -1.33416360e-06,  -1.33830576e-06,\n",
       "         -1.33562962e-06,  -1.33271041e-06,  -1.33514182e-06,\n",
       "         -1.33454039e-06,  -1.33509036e-06,  -1.33381059e-06,\n",
       "         -1.33399483e-06,  -1.33434577e-06,  -1.33355389e-06,\n",
       "         -1.33378603e-06,  -1.33406974e-06,  -1.33412512e-06,\n",
       "         -1.33567220e-06,  -1.33606173e-06,  -1.33351075e-06,\n",
       "         -1.33839888e-06,  -1.33717168e-06,  -1.33574088e-06,\n",
       "         -1.33356123e-06,  -1.33444491e-06,  -1.33478863e-06,\n",
       "         -1.33341714e-06,  -1.33344101e-06,  -1.33811817e-06,\n",
       "         -1.33455907e-06,  -1.33504443e-06,  -1.33916964e-06,\n",
       "         -1.33436478e-06,  -1.33361010e-06,  -1.33777944e-06,\n",
       "         -1.33527321e-06,  -1.33432654e-06,  -1.33408793e-06,\n",
       "         -1.33331438e-06,  -1.33427106e-06,  -1.33449891e-06,\n",
       "         -1.33406808e-06,  -1.33739957e-06,  -1.33475316e-06,\n",
       "         -1.33838447e-06,  -1.33410753e-06,  -1.33370974e-06,\n",
       "         -1.33392507e-06,  -1.33783772e-06,  -1.33356352e-06]])"
      ]
     },
     "execution_count": 42,
     "metadata": {},
     "output_type": "execute_result"
    }
   ],
   "source": [
    "λ.toarray()"
   ]
  },
  {
   "cell_type": "code",
   "execution_count": 43,
   "metadata": {},
   "outputs": [
    {
     "data": {
      "image/png": "[encoded data removed]",
      "text/plain": [
       "<matplotlib.figure.Figure at 0x11362f668>"
      ]
     },
     "metadata": {},
     "output_type": "display_data"
    },
    {
     "data": {
      "image/png": "[encoded data removed]",
      "text/plain": [
       "<matplotlib.figure.Figure at 0x113b21e80>"
      ]
     },
     "metadata": {},
     "output_type": "display_data"
    }
   ],
   "source": [
    "plt.xlabel(\"Итерация\")\n",
    "plt.ylabel(\"Норма градиента\")\n",
    "plt.plot(norms)\n",
    "plt.show()\n",
    "plt.xlabel(\"Итерация\")\n",
    "plt.ylabel(\"h\")\n",
    "plt.plot(h_vals)\n",
    "plt.show()"
   ]
  },
  {
   "cell_type": "code",
   "execution_count": 74,
   "metadata": {},
   "outputs": [
    {
     "data": {
      "text/plain": [
       "(array([  50.,    0.,    0.,    0.,    0.,    0.,    0.,    0.,    0.,  100.]),\n",
       " array([ -2.67107715e-06,  -2.27005248e-06,  -1.86902780e-06,\n",
       "         -1.46800312e-06,  -1.06697844e-06,  -6.65953758e-07,\n",
       "         -2.64929078e-07,   1.36095601e-07,   5.37120281e-07,\n",
       "          9.38144960e-07,   1.33916964e-06]),\n",
       " <a list of 10 Patch objects>)"
      ]
     },
     "execution_count": 74,
     "metadata": {},
     "output_type": "execute_result"
    },
    {
     "data": {
      "image/png": "[encoded data removed]",
      "text/plain": [
       "<matplotlib.figure.Figure at 0x113a87320>"
      ]
     },
     "metadata": {},
     "output_type": "display_data"
    }
   ],
   "source": [
    "plt.hist(ν.data)"
   ]
  },
  {
   "cell_type": "code",
   "execution_count": 72,
   "metadata": {},
   "outputs": [
    {
     "data": {
      "text/plain": [
       "(array([ 26.,   5.,   0.,   0.,   0.,   0.,   0.,   2.,   3.,  14.]),\n",
       " array([ -2.67107715e-06,  -2.67062093e-06,  -2.67016470e-06,\n",
       "         -2.66970848e-06,  -2.66925225e-06,  -2.66879602e-06,\n",
       "         -2.66833980e-06,  -2.66788357e-06,  -2.66742735e-06,\n",
       "         -2.66697112e-06,  -2.66651489e-06]),\n",
       " <a list of 10 Patch objects>)"
      ]
     },
     "execution_count": 72,
     "metadata": {},
     "output_type": "execute_result"
    },
    {
     "data": {
      "image/png": "[encoded data removed]",
      "text/plain": [
       "<matplotlib.figure.Figure at 0x114208198>"
      ]
     },
     "metadata": {},
     "output_type": "display_data"
    }
   ],
   "source": [
    "plt.hist(λ.toarray()[0][y > 0])"
   ]
  },
  {
   "cell_type": "code",
   "execution_count": 73,
   "metadata": {},
   "outputs": [
    {
     "data": {
      "text/plain": [
       "(array([  3.,   4.,   6.,  14.,   9.,  11.,  19.,  20.,   9.,   5.]),\n",
       " array([ -1.33916964e-06,  -1.33836906e-06,  -1.33756847e-06,\n",
       "         -1.33676789e-06,  -1.33596730e-06,  -1.33516672e-06,\n",
       "         -1.33436614e-06,  -1.33356555e-06,  -1.33276497e-06,\n",
       "         -1.33196438e-06,  -1.33116380e-06]),\n",
       " <a list of 10 Patch objects>)"
      ]
     },
     "execution_count": 73,
     "metadata": {},
     "output_type": "execute_result"
    },
    {
     "data": {
      "image/png": "[encoded data removed]",
      "text/plain": [
       "<matplotlib.figure.Figure at 0x113b37860>"
      ]
     },
     "metadata": {},
     "output_type": "display_data"
    }
   ],
   "source": [
    "plt.hist(λ.toarray()[0][y < 0])"
   ]
  },
  {
   "cell_type": "markdown",
   "metadata": {},
   "source": [
    "---"
   ]
  }
 ],
 "metadata": {
  "kernelspec": {
   "display_name": "Python 3",
   "language": "python",
   "name": "python3"
  },
  "language_info": {
   "codemirror_mode": {
    "name": "ipython",
    "version": 3
   },
   "file_extension": ".py",
   "mimetype": "text/x-python",
   "name": "python",
   "nbconvert_exporter": "python",
   "pygments_lexer": "ipython3",
   "version": "3.6.1"
  }
 },
 "nbformat": 4,
 "nbformat_minor": 2
}
