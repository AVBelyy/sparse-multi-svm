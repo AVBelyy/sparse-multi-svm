{
 "cells": [
  {
   "cell_type": "code",
   "execution_count": 1,
   "metadata": {},
   "outputs": [],
   "source": [
    "%load_ext autoreload\n",
    "%autoreload 2\n",
    "%matplotlib inline\n",
    "import pickle\n",
    "import numpy as np\n",
    "from scipy import sparse\n",
    "import pandas as pd\n",
    "import matplotlib.pyplot as plt\n",
    "from sklearn.datasets import load_iris \n",
    "from tqdm import tqdm\n",
    "from scipy.sparse import csr_matrix\n",
    "from lib.gradient_tools import BasicGradientUpdater\n",
    "from sklearn.svm import SVC\n",
    "from sklearn.metrics import classification_report, roc_auc_score\n",
    "from sklearn.metrics.pairwise import linear_kernel\n",
    "from lib.sparse_tools import sparse_clip, sparse_pos_clip, dense_pos_clip, sparse_sparse_dot, dense_sparse_add, \\\n",
    "                             dense_sparse_mul, sparse_sub_with_clip"
   ]
  },
  {
   "cell_type": "code",
   "execution_count": 2,
   "metadata": {},
   "outputs": [],
   "source": [
    "with open(\"bernstein_km.dump\", \"rb\") as fin:\n",
    "    km = pickle.load(fin)\n",
    "\n",
    "n = km.shape[0]"
   ]
  },
  {
   "cell_type": "code",
   "execution_count": 3,
   "metadata": {},
   "outputs": [],
   "source": [
    "iris_data = load_iris()"
   ]
  },
  {
   "cell_type": "code",
   "execution_count": 4,
   "metadata": {},
   "outputs": [],
   "source": [
    "km = csr_matrix(linear_kernel(iris_data[\"data\"]))\n",
    "n = km.shape[0]\n",
    "y = iris_data[\"target\"]\n",
    "y[y > 0] = 1"
   ]
  },
  {
   "cell_type": "markdown",
   "metadata": {},
   "source": [
    "-----"
   ]
  },
  {
   "cell_type": "markdown",
   "metadata": {},
   "source": [
    "## SkLearn"
   ]
  },
  {
   "cell_type": "code",
   "execution_count": 5,
   "metadata": {},
   "outputs": [
    {
     "name": "stdout",
     "output_type": "stream",
     "text": [
      "             precision    recall  f1-score   support\n",
      "\n",
      "          0       1.00      1.00      1.00        50\n",
      "          1       1.00      1.00      1.00       100\n",
      "\n",
      "avg / total       1.00      1.00      1.00       150\n",
      "\n",
      "1.0\n",
      "CPU times: user 9.22 ms, sys: 4.24 ms, total: 13.5 ms\n",
      "Wall time: 25.7 ms\n"
     ]
    }
   ],
   "source": [
    "%%time\n",
    "y = [0] * 50 + [1]*100\n",
    "clf = SVC(kernel=\"precomputed\", probability=True)\n",
    "clf.fit(km.toarray(), y)\n",
    "print(classification_report(y, clf.predict(km.toarray())))\n",
    "print(roc_auc_score(y, clf.predict_proba(km.toarray())[:, 1]))"
   ]
  },
  {
   "cell_type": "code",
   "execution_count": 6,
   "metadata": {},
   "outputs": [
    {
     "data": {
      "text/plain": [
       "array([23, 41, 98], dtype=int32)"
      ]
     },
     "execution_count": 6,
     "metadata": {},
     "output_type": "execute_result"
    }
   ],
   "source": [
    "clf.support_"
   ]
  },
  {
   "cell_type": "markdown",
   "metadata": {},
   "source": [
    "## Ours"
   ]
  },
  {
   "cell_type": "code",
   "execution_count": 58,
   "metadata": {},
   "outputs": [],
   "source": [
    "# Input:\n",
    "# km: csr_matrix\n",
    "# y: np.array\n",
    "\n",
    "C = 1.0\n",
    "γ = 5000. # O(n)\n",
    "L1 = 2*γ\n",
    "ε = 1e-3\n",
    "n_iter = 500\n",
    "\n",
    "\n",
    "# inv2nC = 1. / (2 * n * C)\n",
    "# invL1 = 1. / L1\n",
    "# fracCL1 = C / L1\n",
    "\n",
    "y = np.array([+1.] * 50 + [-1.] * 100)\n",
    "\n",
    "# γy = γ * y"
   ]
  },
  {
   "cell_type": "code",
   "execution_count": 59,
   "metadata": {},
   "outputs": [],
   "source": [
    "def grad_f(x):\n",
    "    t = x.copy()\n",
    "    t.data -= 1 / (2 * n * C)\n",
    "    return (-csr_matrix([1] * n).T + km.multiply(y.reshape(1, -1) * y.reshape(-1, 1)).dot(x.T) + \\\n",
    "           γ*sparse_clip(-x.T, 0, None) + γ*sparse_clip(t.T, 0, None)).T"
   ]
  },
  {
   "cell_type": "code",
   "execution_count": 60,
   "metadata": {},
   "outputs": [
    {
     "name": "stdout",
     "output_type": "stream",
     "text": [
      "CPU times: user 2.77 s, sys: 44.8 ms, total: 2.81 s\n",
      "Wall time: 2.87 s\n"
     ]
    }
   ],
   "source": [
    "%%time\n",
    "\n",
    "# Initialize gradient heap\n",
    "\n",
    "ν = csr_matrix(([0., 0.], [1, 2], [0, 2]), shape=(1, n))\n",
    "\n",
    "# grad1 = dense_sparse_add(-y, 2 * (km[0] - km[1]))\n",
    "\n",
    "# yν_ = dense_sparse_mul(y, ν)\n",
    "# yν1 = sparse_pos_clip(-yν_)\n",
    "# yν2 = sparse_sub_with_clip(yν_, inv2nC)\n",
    "# grad2 = dense_sparse_mul(γy, yν1 + yν2)\n",
    "\n",
    "# grad = dense_sparse_add(grad1, grad2)\n",
    "# min_heap = BasicGradientUpdater(grad)\n",
    "# max_heap = BasicGradientUpdater(-grad)\n",
    "\n",
    "# Iterate until stopping criteria is met\n",
    "\n",
    "norms = []\n",
    "h_vals = []\n",
    "\n",
    "for t in range(n_iter):\n",
    "    if min_heap.get_norm() <= ε:\n",
    "        break\n",
    "    ν_prev = ν.copy()\n",
    "    \n",
    "    # math\n",
    "    current_grad = dense_sparse_mul(y, grad_f(dense_sparse_mul(y, ν)))\n",
    "    norms.append(sparse.linalg.norm(current_grad))\n",
    "    \n",
    "    # anikin\n",
    "    min_ix = current_grad.argmin()#min_heap.get_coordinate()\n",
    "    max_ix = current_grad.argmax()#max_heap.get_coordinate()\n",
    "    min_val = current_grad.min()\n",
    "    max_val = current_grad.max()\n",
    "    h_val = fracCL1 * (max_val - min_val)\n",
    "    h_vec = csr_matrix(([-h_val, +h_val], [min_ix, max_ix], [0, 2]), shape=(1, n))\n",
    "    h_vec.sort_indices()\n",
    "    h_vals.append(h_val)\n",
    "    #print(t, h_val, min_ix, max_ix)\n",
    "    \n",
    "    # Yura\n",
    "    ν +=  h_vec\n",
    "    assert np.abs(ν.sum()) <= 1e-6\n",
    "    assert (min_heap.get() == -max_heap.get()).all()\n",
    "\n",
    "    # Gradient update\n",
    "#     νinvL1h = ν_prev + invL1 * h_vec\n",
    "#     δ1 = (2 * h_val / L1) * (km[min_ix] - km[max_ix])\n",
    "#     δ21 =  sparse_pos_clip(dense_sparse_mul(-y, νinvL1h))\n",
    "#     δ22 = -sparse_pos_clip(dense_sparse_mul(-y, ν_prev))\n",
    "#     δ23 =  sparse_sub_with_clip(dense_sparse_mul(y, νinvL1h), inv2nC)\n",
    "#     δ24 = -sparse_sub_with_clip(dense_sparse_mul(y, ν_prev), inv2nC)\n",
    "#     δ2 = dense_sparse_mul(γy, δ21 + δ22 + δ23 + δ24)\n",
    "#     δ = δ1 + δ2\n",
    "    #δ = np.asarray(dense_sparse_mul(y, grad_f(dense_sparse_mul(y, ν))) - min_heap.get())[0]\n",
    "    #min_heap.update(δ)\n",
    "    #max_heap.update(-δ)\n",
    "\n",
    "λ = dense_sparse_mul(y, ν)"
   ]
  },
  {
   "cell_type": "code",
   "execution_count": 61,
   "metadata": {},
   "outputs": [
    {
     "data": {
      "image/png": "[encoded data removed]",
      "text/plain": [
       "<matplotlib.figure.Figure at 0x115837198>"
      ]
     },
     "metadata": {},
     "output_type": "display_data"
    },
    {
     "data": {
      "image/png": "[encoded data removed]",
      "text/plain": [
       "<matplotlib.figure.Figure at 0x115aa5828>"
      ]
     },
     "metadata": {},
     "output_type": "display_data"
    }
   ],
   "source": [
    "plt.xlabel(\"Итерация\")\n",
    "plt.ylabel(\"Норма градиента\")\n",
    "plt.plot(norms)\n",
    "plt.show()\n",
    "plt.xlabel(\"Итерация\")\n",
    "plt.ylabel(\"h\")\n",
    "plt.plot(h_vals)\n",
    "plt.show()"
   ]
  },
  {
   "cell_type": "code",
   "execution_count": 57,
   "metadata": {},
   "outputs": [
    {
     "data": {
      "text/plain": [
       "array([ 0.64611892,  0.64612185,  0.64612267,  0.64611831,  0.64611888,\n",
       "        0.64611884,  0.64612214,  0.64612071,  0.64612414,  0.64612064,\n",
       "        0.64612032,  0.64611813,  0.64611949,  0.64611951,  0.64612185,\n",
       "        0.64611977,  0.64611962,  0.64612208,  0.64612076,  0.64612214,\n",
       "        0.64612219,  0.64612235,  0.64611895,  0.64612324,  0.64611993,\n",
       "        0.64611907,  0.64612315,  0.64612186,  0.64611915,  0.64612206,\n",
       "        0.64612469,  0.64612219,  0.646123  ,  0.64612205,  0.64611814,\n",
       "        0.64612319,  0.64612325,  0.64612018,  0.64612087,  0.646122  ,\n",
       "        0.64612099,  0.64612235,  0.64611984,  0.646122  ,  0.64611828,\n",
       "        0.64612206,  0.64611854,  0.64611935,  0.64611825,  0.64612032,\n",
       "        0.64612337,  0.64612017,  0.64612556,  0.64611839,  0.64612018,\n",
       "        0.64611768,  0.64612204,  0.64612405,  0.6461201 ,  0.64612073,\n",
       "        0.64612183,  0.64611894,  0.64612108,  0.6461186 ,  0.64611817,\n",
       "        0.64612006,  0.64611874,  0.64612315,  0.64612469,  0.64612187,\n",
       "        0.64611757,  0.64612179,  0.64611964,  0.64612174,  0.64612174,\n",
       "        0.64612292,  0.64611928,  0.64611962,  0.64611958,  0.64611768,\n",
       "        0.64612281,  0.64612512,  0.64612265,  0.64612052,  0.64612019,\n",
       "        0.64612187,  0.64611882,  0.6461202 ,  0.64612456,  0.64612307,\n",
       "        0.64612171,  0.64612393,  0.64612161,  0.64611816,  0.64611767,\n",
       "        0.64612302,  0.64612269,  0.6461199 ,  0.6461198 ,  0.64611962,\n",
       "        0.64612058,  0.64612451,  0.64611942,  0.64611832,  0.64612546,\n",
       "        0.646125  ,  0.64611831,  0.646122  ,  0.64612204,  0.64612207,\n",
       "        0.64612286,  0.64611926,  0.64611968,  0.64611992,  0.64611945,\n",
       "        0.64611982,  0.64611855,  0.64612457,  0.64612399,  0.64612046,\n",
       "        0.64612341,  0.64612282,  0.6461188 ,  0.64612006,  0.64611969,\n",
       "        0.64611826,  0.64612322,  0.64612523,  0.64612205,  0.6461177 ,\n",
       "        0.6461209 ,  0.64611822,  0.64612302,  0.64612187,  0.64612274,\n",
       "        0.64612084,  0.64612407,  0.64612089,  0.64612185,  0.64612305,\n",
       "        0.64612534,  0.64611855,  0.64612179,  0.64612033,  0.64612275,\n",
       "        0.6461231 ,  0.64611989,  0.64611951,  0.64612185,  0.64611842])"
      ]
     },
     "execution_count": 57,
     "metadata": {},
     "output_type": "execute_result"
    }
   ],
   "source": [
    "dense_sparse_mul(y, grad_f(dense_sparse_mul(y, ν))).data"
   ]
  },
  {
   "cell_type": "markdown",
   "metadata": {},
   "source": [
    "---"
   ]
  }
 ],
 "metadata": {
  "kernelspec": {
   "display_name": "Python 3",
   "language": "python",
   "name": "python3"
  },
  "language_info": {
   "codemirror_mode": {
    "name": "ipython",
    "version": 3
   },
   "file_extension": ".py",
   "mimetype": "text/x-python",
   "name": "python",
   "nbconvert_exporter": "python",
   "pygments_lexer": "ipython3",
   "version": "3.6.1"
  }
 },
 "nbformat": 4,
 "nbformat_minor": 2
}
