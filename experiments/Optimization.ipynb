{
 "cells": [
  {
   "cell_type": "code",
   "execution_count": 131,
   "metadata": {},
   "outputs": [
    {
     "name": "stdout",
     "output_type": "stream",
     "text": [
      "The autoreload extension is already loaded. To reload it, use:\n",
      "  %reload_ext autoreload\n"
     ]
    }
   ],
   "source": [
    "%load_ext autoreload\n",
    "%autoreload 2\n",
    "%matplotlib inline\n",
    "import pickle\n",
    "import numpy as np\n",
    "from scipy import sparse\n",
    "import pandas as pd\n",
    "import matplotlib.pyplot as plt\n",
    "from sklearn.datasets import load_iris \n",
    "from tqdm import tqdm\n",
    "from scipy.sparse import csr_matrix\n",
    "from lib.gradient_tools import BasicGradientUpdater\n",
    "from sklearn.svm import SVC\n",
    "from sklearn.metrics import classification_report, roc_auc_score\n",
    "from sklearn.metrics.pairwise import linear_kernel\n",
    "from lib.sparse_tools import sparse_clip, sparse_pos_clip, dense_pos_clip, sparse_sparse_dot, dense_sparse_add, \\\n",
    "                             dense_sparse_mul, sparse_sub_with_clip"
   ]
  },
  {
   "cell_type": "code",
   "execution_count": 8,
   "metadata": {},
   "outputs": [],
   "source": [
    "with open(\"bernstein_km.dump\", \"rb\") as fin:\n",
    "    km = pickle.load(fin)\n",
    "\n",
    "n = km.shape[0]"
   ]
  },
  {
   "cell_type": "code",
   "execution_count": 9,
   "metadata": {},
   "outputs": [],
   "source": [
    "iris_data = load_iris()"
   ]
  },
  {
   "cell_type": "code",
   "execution_count": 10,
   "metadata": {},
   "outputs": [],
   "source": [
    "km = csr_matrix(linear_kernel(iris_data[\"data\"]))\n",
    "n = km.shape[0]\n",
    "y = iris_data[\"target\"]\n",
    "y[y > 0] = 1"
   ]
  },
  {
   "cell_type": "code",
   "execution_count": 298,
   "metadata": {},
   "outputs": [
    {
     "name": "stdout",
     "output_type": "stream",
     "text": [
      "             precision    recall  f1-score   support\n",
      "\n",
      "          0       1.00      1.00      1.00        50\n",
      "          1       1.00      1.00      1.00       100\n",
      "\n",
      "avg / total       1.00      1.00      1.00       150\n",
      "\n",
      "1.0\n",
      "CPU times: user 5.05 ms, sys: 2.97 ms, total: 8.02 ms\n",
      "Wall time: 7.1 ms\n"
     ]
    }
   ],
   "source": [
    "%%time\n",
    "y = [0] * 50 + [1]*100\n",
    "clf = SVC(kernel=\"precomputed\", probability=True)\n",
    "clf.fit(km.toarray(), y)\n",
    "print(classification_report(y, clf.predict(km.toarray())))\n",
    "print(roc_auc_score(y, clf.predict_proba(km.toarray())[:, 1]))"
   ]
  },
  {
   "cell_type": "code",
   "execution_count": 299,
   "metadata": {},
   "outputs": [
    {
     "data": {
      "text/plain": [
       "array([23, 41, 98], dtype=int32)"
      ]
     },
     "execution_count": 299,
     "metadata": {},
     "output_type": "execute_result"
    }
   ],
   "source": [
    "clf.support_"
   ]
  },
  {
   "cell_type": "code",
   "execution_count": 300,
   "metadata": {},
   "outputs": [],
   "source": [
    "# Input:\n",
    "# km: csr_matrix\n",
    "# y: np.array\n",
    "\n",
    "C = 1.0\n",
    "γ = 1000. # O(n)\n",
    "L1 = 2*γ\n",
    "ε = 1e-3\n",
    "n_iter = 1000\n",
    "inv2nC = 1. / (2 * n * C)\n",
    "invL1 = 1. / L1\n",
    "fracCL1 = C / L1\n",
    "\n",
    "y = np.array([+1.] * 50 + [-1.] * 100)\n",
    "\n",
    "γy = γ * y"
   ]
  },
  {
   "cell_type": "code",
   "execution_count": 301,
   "metadata": {},
   "outputs": [
    {
     "data": {
      "text/plain": [
       "array([-0.55129684, -0.551243  , -0.55982112, -0.55235906, -0.55348932,\n",
       "       -0.53308673, -0.55670857, -0.54802793, -0.55840072, -0.54942995,\n",
       "       -0.54369681, -0.54695151, -0.55454736, -0.57491868, -0.55194515,\n",
       "       -0.53996852, -0.54985936, -0.54955084, -0.52952351, -0.54726003,\n",
       "       -0.53340815, -0.54487992, -0.57649542, -0.53221115, -0.53437204,\n",
       "       -0.54129832, -0.54034279, -0.54554531, -0.54910436, -0.54724165,\n",
       "       -0.54504917, -0.53830247, -0.551096  , -0.54950217, -0.54942995,\n",
       "       -0.55933918, -0.54925653, -0.54942995, -0.563228  , -0.54646957,\n",
       "       -0.55530237, -0.55548483, -0.56449623, -0.53748491, -0.5287414 ,\n",
       "       -0.55105537, -0.54481287, -0.55718633, -0.54525518, -0.55158698,\n",
       "        1.23954064,  1.22355012,  1.2487487 ,  1.19077406,  1.2318381 ,\n",
       "        1.21168601,  1.23148994,  1.14619965,  1.22927036,  1.18111534,\n",
       "        1.15868079,  1.20444703,  1.19396203,  1.22741768,  1.17175511,\n",
       "        1.22292018,  1.2123514 ,  1.19186788,  1.22677453,  1.18337905,\n",
       "        1.23357574,  1.19695369,  1.24320318,  1.2245598 ,  1.21357415,\n",
       "        1.22199593,  1.24315352,  1.25395123,  1.21921899,  1.16578468,\n",
       "        1.17826164,  1.17232249,  1.18697355,  1.24739216,  1.20923467,\n",
       "        1.21779441,  1.23724565,  1.22001363,  1.19208678,  1.18950583,\n",
       "        1.20389835,  1.2225904 ,  1.19180082,  1.14839213,  1.19818228,\n",
       "        1.19609231,  1.19847242,  1.21045742,  1.13784879,  1.19491338,\n",
       "        1.30171496,  1.24951341,  1.3049071 ,  1.27525681,  1.29310973,\n",
       "        1.34205104,  1.2081054 ,  1.3201926 ,  1.29241306,  1.31803108,\n",
       "        1.25899741,  1.26724993,  1.28345937,  1.24677611,  1.25760928,\n",
       "        1.27106334,  1.27354628,  1.34447565,  1.36221733,  1.24462358,\n",
       "        1.29562781,  1.23912224,  1.3473248 ,  1.24717294,  1.28838497,\n",
       "        1.30415241,  1.2407873 ,  1.24215386,  1.28268728,  1.29354233,\n",
       "        1.31574476,  1.33152092,  1.28443328,  1.24968715,  1.26705844,\n",
       "        1.32613561,  1.28256221,  1.27135379,  1.23640234,  1.28019046,\n",
       "        1.29069803,  1.27110298,  1.24951341,  1.30245576,  1.29536895,\n",
       "        1.27281352,  1.25438032,  1.2644588 ,  1.27087154,  1.24742344])"
      ]
     },
     "execution_count": 301,
     "metadata": {},
     "output_type": "execute_result"
    }
   ],
   "source": [
    "dense_sparse_mul(y, grad_f(dense_sparse_mul(y, ν))).data"
   ]
  },
  {
   "cell_type": "code",
   "execution_count": 302,
   "metadata": {},
   "outputs": [],
   "source": [
    "def grad_f(x):\n",
    "    t = x.copy()\n",
    "    t.data -= 1 / (2 * n * C)\n",
    "    return (-csr_matrix([1] * n).T + km.multiply(y.reshape(1, -1) * y.reshape(-1, 1)).dot(x.T) + \\\n",
    "           γ*sparse_clip(-x.T, 0, None) + γ*sparse_clip(t.T, 0, None)).T"
   ]
  },
  {
   "cell_type": "code",
   "execution_count": 303,
   "metadata": {},
   "outputs": [
    {
     "name": "stderr",
     "output_type": "stream",
     "text": [
      "100%|██████████| 1000/1000 [00:02<00:00, 339.90it/s]"
     ]
    },
    {
     "name": "stdout",
     "output_type": "stream",
     "text": [
      "CPU times: user 2.86 s, sys: 70.1 ms, total: 2.93 s\n",
      "Wall time: 2.95 s\n"
     ]
    },
    {
     "name": "stderr",
     "output_type": "stream",
     "text": [
      "\n"
     ]
    }
   ],
   "source": [
    "%%time\n",
    "\n",
    "# Initialize gradient heap\n",
    "\n",
    "ν = csr_matrix(([1., -1.], [0, 1], [0, 2]), shape=(1, n))\n",
    "\n",
    "grad1 = dense_sparse_add(-y, 2 * (km[0] - km[1]))\n",
    "\n",
    "yν_ = dense_sparse_mul(y, ν)\n",
    "yν1 = sparse_pos_clip(-yν_)\n",
    "yν2 = sparse_sub_with_clip(yν_, inv2nC)\n",
    "grad2 = dense_sparse_mul(γy, yν1 + yν2)\n",
    "\n",
    "grad = dense_sparse_add(grad1, grad2)\n",
    "min_heap = BasicGradientUpdater(grad)\n",
    "max_heap = BasicGradientUpdater(-grad)\n",
    "\n",
    "# Iterate until stopping criteria is met\n",
    "\n",
    "norms = []\n",
    "\n",
    "for t in tqdm(range(n_iter)):\n",
    "    if min_heap.get_norm() <= ε:\n",
    "        break\n",
    "    norms.append(min_heap.get_norm())\n",
    "    ν_prev = ν.copy()\n",
    "    min_ix = min_heap.get_coordinate()\n",
    "    max_ix = max_heap.get_coordinate()\n",
    "    min_val = min_heap.get_value()\n",
    "    max_val = -max_heap.get_value()\n",
    "    h_val = fracCL1 * (min_val - max_val)\n",
    "    h_vec = csr_matrix(([+h_val, -h_val], [min_ix, max_ix], [0, 2]), shape=(1, n))\n",
    "    h_vec.sort_indices()\n",
    "    ν += invL1 * h_vec\n",
    "    assert np.abs(ν.sum()) <= 1e-6\n",
    "    assert (min_heap.get() == -max_heap.get()).all()\n",
    "\n",
    "    # Gradient update\n",
    "#     νinvL1h = ν_prev + invL1 * h_vec\n",
    "#     δ1 = (2 * h_val / L1) * (km[min_ix] - km[max_ix])\n",
    "#     δ21 =  sparse_pos_clip(dense_sparse_mul(-y, νinvL1h))\n",
    "#     δ22 = -sparse_pos_clip(dense_sparse_mul(-y, ν_prev))\n",
    "#     δ23 =  sparse_sub_with_clip(dense_sparse_mul(y, νinvL1h), inv2nC)\n",
    "#     δ24 = -sparse_sub_with_clip(dense_sparse_mul(y, ν_prev), inv2nC)\n",
    "#     δ2 = dense_sparse_mul(γy, δ21 + δ22 + δ23 + δ24)\n",
    "#     δ = δ1 + δ2\n",
    "    δ = np.asarray(dense_sparse_mul(y, grad_f(dense_sparse_mul(y, ν))) - min_heap.get())[0]\n",
    "    min_heap.update(δ)\n",
    "    max_heap.update(-δ)\n",
    "\n",
    "λ = dense_sparse_mul(y, ν)"
   ]
  },
  {
   "cell_type": "code",
   "execution_count": 304,
   "metadata": {},
   "outputs": [
    {
     "name": "stdout",
     "output_type": "stream",
     "text": [
      "CPU times: user 3.1 s, sys: 56.1 ms, total: 3.15 s\n",
      "Wall time: 3.19 s\n"
     ]
    }
   ],
   "source": [
    "%%time\n",
    "\n",
    "# Initialize gradient heap\n",
    "\n",
    "ν = csr_matrix(([0., 0.], [1, 2], [0, 2]), shape=(1, n))\n",
    "\n",
    "grad1 = dense_sparse_add(-y, 2 * (km[0] - km[1]))\n",
    "\n",
    "yν_ = dense_sparse_mul(y, ν)\n",
    "yν1 = sparse_pos_clip(-yν_)\n",
    "yν2 = sparse_sub_with_clip(yν_, inv2nC)\n",
    "grad2 = dense_sparse_mul(γy, yν1 + yν2)\n",
    "\n",
    "grad = dense_sparse_add(grad1, grad2)\n",
    "min_heap = BasicGradientUpdater(grad)\n",
    "max_heap = BasicGradientUpdater(-grad)\n",
    "\n",
    "# Iterate until stopping criteria is met\n",
    "\n",
    "norms = []\n",
    "h_vals = []\n",
    "\n",
    "for t in range(n_iter):\n",
    "    if min_heap.get_norm() <= ε:\n",
    "        break\n",
    "    ν_prev = ν.copy()\n",
    "    \n",
    "    # math\n",
    "    current_grad = dense_sparse_mul(y, grad_f(dense_sparse_mul(y, ν)))\n",
    "    norms.append(sparse.linalg.norm(current_grad))\n",
    "    \n",
    "    # anikin\n",
    "    min_ix = current_grad.argmin()#min_heap.get_coordinate()\n",
    "    max_ix = current_grad.argmax()#max_heap.get_coordinate()\n",
    "    min_val = current_grad.min()\n",
    "    max_val = current_grad.max()\n",
    "    h_val = fracCL1 * (max_val - min_val)\n",
    "    h_vec = csr_matrix(([-h_val, +h_val], [min_ix, max_ix], [0, 2]), shape=(1, n))\n",
    "    h_vec.sort_indices()\n",
    "    h_vals.append(h_val)\n",
    "    #print(t, h_val, min_ix, max_ix)\n",
    "    \n",
    "    # Yura\n",
    "    ν +=  h_vec\n",
    "    assert np.abs(ν.sum()) <= 1e-6\n",
    "    assert (min_heap.get() == -max_heap.get()).all()\n",
    "\n",
    "    # Gradient update\n",
    "#     νinvL1h = ν_prev + invL1 * h_vec\n",
    "#     δ1 = (2 * h_val / L1) * (km[min_ix] - km[max_ix])\n",
    "#     δ21 =  sparse_pos_clip(dense_sparse_mul(-y, νinvL1h))\n",
    "#     δ22 = -sparse_pos_clip(dense_sparse_mul(-y, ν_prev))\n",
    "#     δ23 =  sparse_sub_with_clip(dense_sparse_mul(y, νinvL1h), inv2nC)\n",
    "#     δ24 = -sparse_sub_with_clip(dense_sparse_mul(y, ν_prev), inv2nC)\n",
    "#     δ2 = dense_sparse_mul(γy, δ21 + δ22 + δ23 + δ24)\n",
    "#     δ = δ1 + δ2\n",
    "    #δ = np.asarray(dense_sparse_mul(y, grad_f(dense_sparse_mul(y, ν))) - min_heap.get())[0]\n",
    "    #min_heap.update(δ)\n",
    "    #max_heap.update(-δ)\n",
    "\n",
    "λ = dense_sparse_mul(y, ν)"
   ]
  },
  {
   "cell_type": "code",
   "execution_count": 295,
   "metadata": {},
   "outputs": [
    {
     "data": {
      "image/png": "[encoded data removed]",
      "text/plain": [
       "<matplotlib.figure.Figure at 0x1125264a8>"
      ]
     },
     "metadata": {},
     "output_type": "display_data"
    },
    {
     "data": {
      "image/png": "[encoded data removed]",
      "text/plain": [
       "<matplotlib.figure.Figure at 0x11257d358>"
      ]
     },
     "metadata": {},
     "output_type": "display_data"
    }
   ],
   "source": [
    "plt.xlabel(\"Итерация\")\n",
    "plt.ylabel(\"Норма градиента\")\n",
    "plt.plot(norms)\n",
    "plt.show()\n",
    "plt.xlabel(\"Итерация\")\n",
    "plt.ylabel(\"h\")\n",
    "plt.plot(h_vals)\n",
    "plt.show()"
   ]
  },
  {
   "cell_type": "code",
   "execution_count": 248,
   "metadata": {},
   "outputs": [
    {
     "data": {
      "text/plain": [
       "-0.029872775160929406"
      ]
     },
     "execution_count": 248,
     "metadata": {},
     "output_type": "execute_result"
    }
   ],
   "source": [
    "λ.data.sum()"
   ]
  },
  {
   "cell_type": "markdown",
   "metadata": {},
   "source": [
    "---"
   ]
  }
 ],
 "metadata": {
  "kernelspec": {
   "display_name": "Python 3",
   "language": "python",
   "name": "python3"
  },
  "language_info": {
   "codemirror_mode": {
    "name": "ipython",
    "version": 3
   },
   "file_extension": ".py",
   "mimetype": "text/x-python",
   "name": "python",
   "nbconvert_exporter": "python",
   "pygments_lexer": "ipython3",
   "version": "3.6.4"
  }
 },
 "nbformat": 4,
 "nbformat_minor": 2
}
