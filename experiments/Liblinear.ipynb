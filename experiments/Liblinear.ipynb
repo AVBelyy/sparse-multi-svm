{
 "cells": [
  {
   "cell_type": "code",
   "execution_count": 18,
   "metadata": {},
   "outputs": [],
   "source": [
    "import os\n",
    "import pickle\n",
    "import liblinear\n",
    "import collections"
   ]
  },
  {
   "cell_type": "code",
   "execution_count": 2,
   "metadata": {},
   "outputs": [],
   "source": [
    "datasets_names = (\"LSHTC1\", \"DMOZ\", \"WIKI_Small\", \"WIKI_50K\", \"WIKI_100K\")\n",
    "dataset_dir = \"../data\"\n",
    "out_dir = \"../data/parsed\""
   ]
  },
  {
   "cell_type": "code",
   "execution_count": 17,
   "metadata": {},
   "outputs": [
    {
     "name": "stdout",
     "output_type": "stream",
     "text": [
      "CPU times: user 457 ms, sys: 1.54 s, total: 2 s\n",
      "Wall time: 3.12 s\n"
     ]
    }
   ],
   "source": [
    "%%time\n",
    "\n",
    "# Read the dataset.\n",
    "\n",
    "dataset_name = \"WIKI_100K\"\n",
    "\n",
    "with open(os.path.join(out_dir, \"%s_train.dump\" % dataset_name), \"rb\") as fin:\n",
    "    X_train = pickle.load(fin)\n",
    "with open(os.path.join(out_dir, \"%s_train_out.dump\" % dataset_name), \"rb\") as fin:\n",
    "    y_train = pickle.load(fin)\n",
    "with open(os.path.join(out_dir, \"%s_test.dump\" % dataset_name), \"rb\") as fin:\n",
    "    X_test = pickle.load(fin)\n",
    "with open(os.path.join(out_dir, \"%s_test_out.dump\" % dataset_name), \"rb\") as fin:\n",
    "    y_test = pickle.load(fin)"
   ]
  },
  {
   "cell_type": "code",
   "execution_count": 12,
   "metadata": {},
   "outputs": [],
   "source": [
    "pos_class = 1927"
   ]
  },
  {
   "cell_type": "markdown",
   "metadata": {},
   "source": [
    "---"
   ]
  }
 ],
 "metadata": {
  "kernelspec": {
   "display_name": "Python 3",
   "language": "python",
   "name": "python3"
  },
  "language_info": {
   "codemirror_mode": {
    "name": "ipython",
    "version": 3
   },
   "file_extension": ".py",
   "mimetype": "text/x-python",
   "name": "python",
   "nbconvert_exporter": "python",
   "pygments_lexer": "ipython3",
   "version": "3.6.4"
  }
 },
 "nbformat": 4,
 "nbformat_minor": 2
}
