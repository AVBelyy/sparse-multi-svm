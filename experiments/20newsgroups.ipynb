{
 "cells": [
  {
   "cell_type": "code",
   "execution_count": 1,
   "metadata": {},
   "outputs": [],
   "source": [
    "import os\n",
    "import pickle\n",
    "import numpy as np\n",
    "from sklearn.feature_extraction.text import TfidfTransformer\n",
    "from sklearn.datasets import fetch_20newsgroups\n",
    "from sklearn.model_selection import train_test_split\n",
    "from sklearn.feature_extraction.text import CountVectorizer\n",
    "from sklearn.metrics import accuracy_score, classification_report, confusion_matrix, f1_score, accuracy_score\n",
    "from sklearn.svm import SVC, LinearSVC"
   ]
  },
  {
   "cell_type": "code",
   "execution_count": 2,
   "metadata": {},
   "outputs": [],
   "source": [
    "vectorizer = CountVectorizer(min_df=3, max_df=0.5)"
   ]
  },
  {
   "cell_type": "code",
   "execution_count": 3,
   "metadata": {},
   "outputs": [],
   "source": [
    "newsgroups = fetch_20newsgroups(subset='all', random_state=0)"
   ]
  },
  {
   "cell_type": "code",
   "execution_count": 4,
   "metadata": {},
   "outputs": [
    {
     "name": "stdout",
     "output_type": "stream",
     "text": [
      "CPU times: user 4.77 s, sys: 97.1 ms, total: 4.87 s\n",
      "Wall time: 4.9 s\n"
     ]
    }
   ],
   "source": [
    "%%time\n",
    "\n",
    "X = vectorizer.fit_transform(newsgroups.data)\n",
    "y = newsgroups.target"
   ]
  },
  {
   "cell_type": "code",
   "execution_count": 5,
   "metadata": {},
   "outputs": [],
   "source": [
    "X_train, X_pretest, y_train, y_pretest = train_test_split(X, y, test_size=0.3, random_state=0)"
   ]
  },
  {
   "cell_type": "code",
   "execution_count": 6,
   "metadata": {},
   "outputs": [],
   "source": [
    "X_heldout, X_test, y_heldout, y_test = train_test_split(X_pretest, y_pretest, test_size=2/3, random_state=0)"
   ]
  },
  {
   "cell_type": "code",
   "execution_count": 7,
   "metadata": {},
   "outputs": [],
   "source": [
    "out_dir = \"../data/parsed\"\n",
    "\n",
    "with open(os.path.join(out_dir, \"20newsgroups_train.dump\"), \"wb\") as fout:\n",
    "    pickle.dump(X_train, fout)\n",
    "with open(os.path.join(out_dir, \"20newsgroups_train_out.dump\"), \"wb\") as fout:\n",
    "    pickle.dump(y_train, fout)\n",
    "with open(os.path.join(out_dir, \"20newsgroups_heldout.dump\"), \"wb\") as fout:\n",
    "    pickle.dump(X_heldout, fout)\n",
    "with open(os.path.join(out_dir, \"20newsgroups_heldout_out.dump\"), \"wb\") as fout:\n",
    "    pickle.dump(y_heldout, fout)\n",
    "with open(os.path.join(out_dir, \"20newsgroups_test.dump\"), \"wb\") as fout:\n",
    "    pickle.dump(X_test, fout)\n",
    "with open(os.path.join(out_dir, \"20newsgroups_test_out.dump\"), \"wb\") as fout:\n",
    "    pickle.dump(y_test, fout)"
   ]
  },
  {
   "cell_type": "code",
   "execution_count": null,
   "metadata": {},
   "outputs": [],
   "source": [
    "%%time\n",
    "\n",
    "# Read the dataset.\n",
    "\n",
    "# dataset_name = \"WIKI_Small\"\n",
    "# dataset_name = \"DMOZ\"\n",
    "dataset_name = \"LSHTC1\"\n",
    "# dataset_name = \"20newsgroups\"\n",
    "\n",
    "with open(os.path.join(out_dir, \"%s_train.dump\" % dataset_name), \"rb\") as fin:\n",
    "    X_train = pickle.load(fin)\n",
    "with open(os.path.join(out_dir, \"%s_train_out.dump\" % dataset_name), \"rb\") as fin:\n",
    "    y_train = pickle.load(fin)\n",
    "with open(os.path.join(out_dir, \"%s_heldout.dump\" % dataset_name), \"rb\") as fin:\n",
    "    X_heldout = pickle.load(fin)\n",
    "with open(os.path.join(out_dir, \"%s_heldout_out.dump\" % dataset_name), \"rb\") as fin:\n",
    "    y_heldout = pickle.load(fin)\n",
    "with open(os.path.join(out_dir, \"%s_test.dump\" % dataset_name), \"rb\") as fin:\n",
    "    X_test = pickle.load(fin)\n",
    "with open(os.path.join(out_dir, \"%s_test_out.dump\" % dataset_name), \"rb\") as fin:\n",
    "    y_test = pickle.load(fin)\n",
    "\n",
    "n_classes = 0\n",
    "for dataset_part in (\"train\", \"heldout\", \"test\"):\n",
    "    with open(os.path.join(out_dir, \"%s_%s_out.dump\" % (dataset_name, dataset_part)), \"rb\") as fin:\n",
    "        labels = pickle.load(fin)\n",
    "        n_classes = max(n_classes, max(labels) + 1)"
   ]
  },
  {
   "cell_type": "code",
   "execution_count": 8,
   "metadata": {},
   "outputs": [
    {
     "name": "stdout",
     "output_type": "stream",
     "text": [
      "CPU times: user 103 ms, sys: 21.6 ms, total: 124 ms\n",
      "Wall time: 124 ms\n"
     ]
    }
   ],
   "source": [
    "%%time\n",
    "\n",
    "tfidf = TfidfTransformer()\n",
    "tfidf.fit(X_train)\n",
    "X_train = tfidf.transform(X_train, copy=False)\n",
    "X_heldout = tfidf.transform(X_heldout, copy=False)\n",
    "X_test = tfidf.transform(X_test, copy=False)"
   ]
  },
  {
   "cell_type": "code",
   "execution_count": 9,
   "metadata": {},
   "outputs": [
    {
     "data": {
      "text/plain": [
       "<13192x52577 sparse matrix of type '<class 'numpy.float64'>'\n",
       "\twith 1717649 stored elements in Compressed Sparse Row format>"
      ]
     },
     "execution_count": 9,
     "metadata": {},
     "output_type": "execute_result"
    }
   ],
   "source": [
    "X_train"
   ]
  },
  {
   "cell_type": "markdown",
   "metadata": {},
   "source": [
    "---"
   ]
  },
  {
   "cell_type": "code",
   "execution_count": null,
   "metadata": {},
   "outputs": [],
   "source": [
    "%%time\n",
    "\n",
    "clf = SVC(C=1.0, kernel=\"linear\", random_state=0)\n",
    "clf.fit(X_train, y_train)"
   ]
  },
  {
   "cell_type": "code",
   "execution_count": 10,
   "metadata": {},
   "outputs": [
    {
     "name": "stdout",
     "output_type": "stream",
     "text": [
      "CPU times: user 40 s, sys: 252 ms, total: 40.3 s\n",
      "Wall time: 42.1 s\n"
     ]
    }
   ],
   "source": [
    "%%time\n",
    "\n",
    "clf = LinearSVC(C=1.0, dual=False, loss='squared_hinge', max_iter=1,\n",
    "                multi_class='crammer_singer', penalty='l2', random_state=0)\n",
    "clf.fit(X_train, y_train)"
   ]
  },
  {
   "cell_type": "markdown",
   "metadata": {},
   "source": [
    "---"
   ]
  },
  {
   "cell_type": "markdown",
   "metadata": {},
   "source": [
    "Train quality:"
   ]
  },
  {
   "cell_type": "code",
   "execution_count": 11,
   "metadata": {},
   "outputs": [
    {
     "name": "stdout",
     "output_type": "stream",
     "text": [
      "CPU times: user 35.2 ms, sys: 2.45 ms, total: 37.7 ms\n",
      "Wall time: 36.2 ms\n"
     ]
    }
   ],
   "source": [
    "%time y_pred_train = clf.predict(X_train)"
   ]
  },
  {
   "cell_type": "code",
   "execution_count": 12,
   "metadata": {},
   "outputs": [
    {
     "data": {
      "text/plain": [
       "0.9973810780978599"
      ]
     },
     "execution_count": 12,
     "metadata": {},
     "output_type": "execute_result"
    }
   ],
   "source": [
    "f1_score(y_train, y_pred_train, average=\"macro\")"
   ]
  },
  {
   "cell_type": "code",
   "execution_count": 13,
   "metadata": {},
   "outputs": [
    {
     "data": {
      "text/plain": [
       "0.9974226804123711"
      ]
     },
     "execution_count": 13,
     "metadata": {},
     "output_type": "execute_result"
    }
   ],
   "source": [
    "f1_score(y_train, y_pred_train, average=\"micro\")"
   ]
  },
  {
   "cell_type": "markdown",
   "metadata": {},
   "source": [
    "Test quality:"
   ]
  },
  {
   "cell_type": "code",
   "execution_count": 14,
   "metadata": {},
   "outputs": [
    {
     "name": "stdout",
     "output_type": "stream",
     "text": [
      "CPU times: user 18.5 ms, sys: 2.36 ms, total: 20.8 ms\n",
      "Wall time: 19.2 ms\n"
     ]
    }
   ],
   "source": [
    "%time y_pred_test = clf.predict(X_test)"
   ]
  },
  {
   "cell_type": "code",
   "execution_count": 15,
   "metadata": {},
   "outputs": [
    {
     "data": {
      "text/plain": [
       "0.9206901909395956"
      ]
     },
     "execution_count": 15,
     "metadata": {},
     "output_type": "execute_result"
    }
   ],
   "source": [
    "f1_score(y_test, y_pred_test, average=\"macro\")"
   ]
  },
  {
   "cell_type": "code",
   "execution_count": 16,
   "metadata": {},
   "outputs": [
    {
     "data": {
      "text/plain": [
       "0.9222811671087533"
      ]
     },
     "execution_count": 16,
     "metadata": {},
     "output_type": "execute_result"
    }
   ],
   "source": [
    "f1_score(y_test, y_pred_test, average=\"micro\")"
   ]
  },
  {
   "cell_type": "markdown",
   "metadata": {},
   "source": [
    "Heldout quality:"
   ]
  },
  {
   "cell_type": "code",
   "execution_count": 17,
   "metadata": {},
   "outputs": [
    {
     "name": "stdout",
     "output_type": "stream",
     "text": [
      "CPU times: user 11.8 ms, sys: 1.81 ms, total: 13.6 ms\n",
      "Wall time: 14.5 ms\n"
     ]
    }
   ],
   "source": [
    "%time y_pred_heldout = clf.predict(X_heldout)"
   ]
  },
  {
   "cell_type": "code",
   "execution_count": 18,
   "metadata": {},
   "outputs": [
    {
     "data": {
      "text/plain": [
       "0.9192936738490263"
      ]
     },
     "execution_count": 18,
     "metadata": {},
     "output_type": "execute_result"
    }
   ],
   "source": [
    "f1_score(y_heldout, y_pred_heldout, average=\"macro\")"
   ]
  },
  {
   "cell_type": "code",
   "execution_count": 19,
   "metadata": {},
   "outputs": [
    {
     "data": {
      "text/plain": [
       "0.9209129511677282"
      ]
     },
     "execution_count": 19,
     "metadata": {},
     "output_type": "execute_result"
    }
   ],
   "source": [
    "f1_score(y_heldout, y_pred_heldout, average=\"micro\")"
   ]
  },
  {
   "cell_type": "markdown",
   "metadata": {},
   "source": [
    "---"
   ]
  }
 ],
 "metadata": {
  "kernelspec": {
   "display_name": "Python 3",
   "language": "python",
   "name": "python3"
  },
  "language_info": {
   "codemirror_mode": {
    "name": "ipython",
    "version": 3
   },
   "file_extension": ".py",
   "mimetype": "text/x-python",
   "name": "python",
   "nbconvert_exporter": "python",
   "pygments_lexer": "ipython3",
   "version": "3.6.4"
  }
 },
 "nbformat": 4,
 "nbformat_minor": 2
}
