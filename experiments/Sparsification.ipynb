{
 "cells": [
  {
   "cell_type": "code",
   "execution_count": 11,
   "metadata": {},
   "outputs": [],
   "source": [
    "from sklearn.metrics.pairwise import rbf_kernel, linear_kernel, cosine_similarity\n",
    "from scipy.sparse import csr_matrix"
   ]
  },
  {
   "cell_type": "code",
   "execution_count": 12,
   "metadata": {},
   "outputs": [
    {
     "data": {
      "text/plain": [
       "\u001b[0;31mSignature:\u001b[0m \u001b[0mcosine_similarity\u001b[0m\u001b[0;34m(\u001b[0m\u001b[0mX\u001b[0m\u001b[0;34m,\u001b[0m \u001b[0mY\u001b[0m\u001b[0;34m=\u001b[0m\u001b[0;32mNone\u001b[0m\u001b[0;34m,\u001b[0m \u001b[0mdense_output\u001b[0m\u001b[0;34m=\u001b[0m\u001b[0;32mTrue\u001b[0m\u001b[0;34m)\u001b[0m\u001b[0;34m\u001b[0m\u001b[0m\n",
       "\u001b[0;31mDocstring:\u001b[0m\n",
       "Compute cosine similarity between samples in X and Y.\n",
       "\n",
       "Cosine similarity, or the cosine kernel, computes similarity as the\n",
       "normalized dot product of X and Y:\n",
       "\n",
       "    K(X, Y) = <X, Y> / (||X||*||Y||)\n",
       "\n",
       "On L2-normalized data, this function is equivalent to linear_kernel.\n",
       "\n",
       "Read more in the :ref:`User Guide <cosine_similarity>`.\n",
       "\n",
       "Parameters\n",
       "----------\n",
       "X : ndarray or sparse array, shape: (n_samples_X, n_features)\n",
       "    Input data.\n",
       "\n",
       "Y : ndarray or sparse array, shape: (n_samples_Y, n_features)\n",
       "    Input data. If ``None``, the output will be the pairwise\n",
       "    similarities between all samples in ``X``.\n",
       "\n",
       "dense_output : boolean (optional), default True\n",
       "    Whether to return dense output even when the input is sparse. If\n",
       "    ``False``, the output is sparse if both input arrays are sparse.\n",
       "\n",
       "    .. versionadded:: 0.17\n",
       "       parameter ``dense_output`` for dense output.\n",
       "\n",
       "Returns\n",
       "-------\n",
       "kernel matrix : array\n",
       "    An array with shape (n_samples_X, n_samples_Y).\n",
       "\u001b[0;31mFile:\u001b[0m      /usr/local/lib/python3.6/site-packages/sklearn/metrics/pairwise.py\n",
       "\u001b[0;31mType:\u001b[0m      function\n"
      ]
     },
     "metadata": {},
     "output_type": "display_data"
    }
   ],
   "source": [
    "?cosine_similarity"
   ]
  },
  {
   "cell_type": "code",
   "execution_count": 10,
   "metadata": {},
   "outputs": [
    {
     "data": {
      "text/plain": [
       "numpy.ndarray"
      ]
     },
     "execution_count": 10,
     "metadata": {},
     "output_type": "execute_result"
    }
   ],
   "source": [
    "type(linear_kernel(csr_matrix([[1,2],[3,4],[5,6]])))"
   ]
  },
  {
   "cell_type": "markdown",
   "metadata": {},
   "source": [
    "---"
   ]
  }
 ],
 "metadata": {
  "kernelspec": {
   "display_name": "Python 3",
   "language": "python",
   "name": "python3"
  },
  "language_info": {
   "codemirror_mode": {
    "name": "ipython",
    "version": 3
   },
   "file_extension": ".py",
   "mimetype": "text/x-python",
   "name": "python",
   "nbconvert_exporter": "python",
   "pygments_lexer": "ipython3",
   "version": "3.6.4"
  }
 },
 "nbformat": 4,
 "nbformat_minor": 2
}
