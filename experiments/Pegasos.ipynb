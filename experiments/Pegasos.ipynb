{
 "cells": [
  {
   "cell_type": "code",
   "execution_count": 19,
   "metadata": {},
   "outputs": [],
   "source": [
    "%load_ext autoreload\n",
    "%autoreload 2\n",
    "%matplotlib inline\n",
    "\n",
    "import os\n",
    "import pickle\n",
    "import collections\n",
    "import numpy as np\n",
    "import scipy.sparse as ss\n",
    "import matplotlib.pyplot as plt\n",
    "import matplotlib\n",
    "from lib.sparse_tools import dense_sparse_dot, dense_sparse_add\n",
    "from tqdm import tqdm"
   ]
  },
  {
   "cell_type": "code",
   "execution_count": 20,
   "metadata": {},
   "outputs": [],
   "source": [
    "matplotlib.rcParams.update({'font.size': 20})"
   ]
  },
  {
   "cell_type": "markdown",
   "metadata": {},
   "source": [
    "---"
   ]
  },
  {
   "cell_type": "markdown",
   "metadata": {},
   "source": [
    "Our datasets:"
   ]
  },
  {
   "cell_type": "code",
   "execution_count": 21,
   "metadata": {},
   "outputs": [],
   "source": [
    "datasets_names = (\"LSHTC1\", \"DMOZ\", \"WIKI_Small\", \"WIKI_50K\", \"WIKI_100K\")\n",
    "dataset_dir = \"../data\"\n",
    "out_dir = \"../data/parsed\""
   ]
  },
  {
   "cell_type": "code",
   "execution_count": 22,
   "metadata": {},
   "outputs": [
    {
     "name": "stdout",
     "output_type": "stream",
     "text": [
      "CPU times: user 68.1 ms, sys: 216 ms, total: 284 ms\n",
      "Wall time: 470 ms\n"
     ]
    }
   ],
   "source": [
    "%%time\n",
    "\n",
    "# Read the dataset.\n",
    "\n",
    "# dataset_name = \"WIKI_100K\"\n",
    "dataset_name = \"LSHTC1\"\n",
    "# dataset_name = \"DMOZ\"\n",
    "\n",
    "with open(os.path.join(out_dir, \"%s_train.dump\" % dataset_name), \"rb\") as fin:\n",
    "    X_train = pickle.load(fin)\n",
    "with open(os.path.join(out_dir, \"%s_train_out.dump\" % dataset_name), \"rb\") as fin:\n",
    "    y_train = pickle.load(fin)\n",
    "with open(os.path.join(out_dir, \"%s_heldout.dump\" % dataset_name), \"rb\") as fin:\n",
    "    X_test = pickle.load(fin)\n",
    "with open(os.path.join(out_dir, \"%s_heldout_out.dump\" % dataset_name), \"rb\") as fin:\n",
    "    y_test = pickle.load(fin)"
   ]
  },
  {
   "cell_type": "markdown",
   "metadata": {},
   "source": [
    "---"
   ]
  },
  {
   "cell_type": "markdown",
   "metadata": {},
   "source": [
    "#### Average IoU of classes (as bag-of-words of their documents):"
   ]
  },
  {
   "cell_type": "code",
   "execution_count": 105,
   "metadata": {},
   "outputs": [],
   "source": [
    "classes_tokens = collections.defaultdict(set)"
   ]
  },
  {
   "cell_type": "code",
   "execution_count": 106,
   "metadata": {},
   "outputs": [
    {
     "name": "stderr",
     "output_type": "stream",
     "text": [
      "126871it [00:05, 25231.02it/s]"
     ]
    },
    {
     "name": "stdout",
     "output_type": "stream",
     "text": [
      "CPU times: user 4.49 s, sys: 453 ms, total: 4.94 s\n",
      "Wall time: 5.03 s\n"
     ]
    },
    {
     "name": "stderr",
     "output_type": "stream",
     "text": [
      "\n"
     ]
    }
   ],
   "source": [
    "%%time\n",
    "\n",
    "for a, b, y in tqdm(zip(X_train.indptr, X_train.indptr[1:], y_train)):\n",
    "    classes_tokens[y] |= set(X_train.indices[a:b])"
   ]
  },
  {
   "cell_type": "code",
   "execution_count": null,
   "metadata": {},
   "outputs": [],
   "source": [
    "%%time\n",
    "\n",
    "avg_iou_num = 0\n",
    "avg_iou_den = 0\n",
    "\n",
    "for y1, c1 in tqdm(classes_tokens.items()):\n",
    "    for y2, c2 in classes_tokens.items():\n",
    "        u = len(c1 | c2)\n",
    "        if u > 0:\n",
    "            iou = len(c1 & c2) / u\n",
    "            avg_iou_num += iou\n",
    "            avg_iou_den += 1"
   ]
  },
  {
   "cell_type": "code",
   "execution_count": 152,
   "metadata": {},
   "outputs": [
    {
     "data": {
      "text/plain": [
       "0.11863847316584965"
      ]
     },
     "execution_count": 152,
     "metadata": {},
     "output_type": "execute_result"
    }
   ],
   "source": [
    "avg_iou_num/avg_iou_den"
   ]
  },
  {
   "cell_type": "markdown",
   "metadata": {},
   "source": [
    "---"
   ]
  },
  {
   "cell_type": "markdown",
   "metadata": {},
   "source": [
    "Iris datasets:"
   ]
  },
  {
   "cell_type": "code",
   "execution_count": null,
   "metadata": {},
   "outputs": [],
   "source": [
    "from sklearn.datasets import load_iris\n",
    "from sklearn.model_selection import train_test_split"
   ]
  },
  {
   "cell_type": "code",
   "execution_count": null,
   "metadata": {},
   "outputs": [],
   "source": [
    "iris_data = load_iris()\n",
    "X, y = iris_data[\"data\"], iris_data[\"target\"]"
   ]
  },
  {
   "cell_type": "code",
   "execution_count": null,
   "metadata": {},
   "outputs": [],
   "source": [
    "X = np.hstack([X, np.ones(X.shape[0]).reshape(-1, 1)])\n",
    "X = ss.csr_matrix(X)"
   ]
  },
  {
   "cell_type": "code",
   "execution_count": null,
   "metadata": {},
   "outputs": [],
   "source": [
    "X_train, X_test, y_train, y_test = train_test_split(X, y, test_size=0.2, random_state=0)"
   ]
  },
  {
   "cell_type": "markdown",
   "metadata": {},
   "source": [
    "---"
   ]
  },
  {
   "cell_type": "code",
   "execution_count": 112,
   "metadata": {},
   "outputs": [
    {
     "name": "stdout",
     "output_type": "stream",
     "text": [
      "CPU times: user 2.82 s, sys: 3.12 s, total: 5.93 s\n",
      "Wall time: 6.73 s\n"
     ]
    }
   ],
   "source": [
    "%%time\n",
    "\n",
    "X_train = ss.hstack([X_train, np.ones(X_train.shape[0]).reshape(-1, 1)])\n",
    "X_test = ss.hstack([X_test, np.ones(X_test.shape[0]).reshape(-1, 1)])\n",
    "X_train, X_test = ss.csr_matrix(X_train), ss.csr_matrix(X_test)"
   ]
  },
  {
   "cell_type": "markdown",
   "metadata": {},
   "source": [
    "---"
   ]
  },
  {
   "cell_type": "markdown",
   "metadata": {},
   "source": [
    "### M-SVM from liblinear"
   ]
  },
  {
   "cell_type": "code",
   "execution_count": 156,
   "metadata": {},
   "outputs": [],
   "source": [
    "import liblinear"
   ]
  },
  {
   "cell_type": "code",
   "execution_count": 44,
   "metadata": {},
   "outputs": [
    {
     "name": "stdout",
     "output_type": "stream",
     "text": [
      "CPU times: user 1min 22s, sys: 4.15 s, total: 1min 27s\n",
      "Wall time: 1min 33s\n"
     ]
    }
   ],
   "source": [
    "%time m = liblinear.train(y_train[:1000], X_train[:1000], \"-s 4\")"
   ]
  },
  {
   "cell_type": "code",
   "execution_count": 53,
   "metadata": {},
   "outputs": [
    {
     "name": "stdout",
     "output_type": "stream",
     "text": [
      "CPU times: user 55.8 s, sys: 2.5 s, total: 58.3 s\n",
      "Wall time: 1min\n"
     ]
    }
   ],
   "source": [
    "%time liblinear.save_model(\"msvm.mdl\", m)"
   ]
  },
  {
   "cell_type": "markdown",
   "metadata": {},
   "source": [
    "---"
   ]
  },
  {
   "cell_type": "code",
   "execution_count": null,
   "metadata": {},
   "outputs": [],
   "source": []
  },
  {
   "cell_type": "code",
   "execution_count": 27,
   "metadata": {},
   "outputs": [],
   "source": [
    "from sklearn.metrics import pairwise_distances_argmin"
   ]
  },
  {
   "cell_type": "code",
   "execution_count": 14,
   "metadata": {},
   "outputs": [],
   "source": [
    "np.random.seed(0)\n",
    "index_ids = np.random.randint(X_train.shape[0], size=2000)\n",
    "query_ids = np.random.randint(len(index_ids), size=100)"
   ]
  },
  {
   "cell_type": "code",
   "execution_count": 15,
   "metadata": {},
   "outputs": [
    {
     "name": "stdout",
     "output_type": "stream",
     "text": [
      "CPU times: user 8.32 ms, sys: 4.13 ms, total: 12.4 ms\n",
      "Wall time: 11.2 ms\n"
     ]
    }
   ],
   "source": [
    "%%time\n",
    "\n",
    "data = X_train[index_ids] #.toarray()\n",
    "query = data[query_ids]"
   ]
  },
  {
   "cell_type": "markdown",
   "metadata": {},
   "source": [
    "### nmslib for ANN"
   ]
  },
  {
   "cell_type": "code",
   "execution_count": 3,
   "metadata": {},
   "outputs": [],
   "source": [
    "import nmslib"
   ]
  },
  {
   "cell_type": "code",
   "execution_count": 26,
   "metadata": {},
   "outputs": [
    {
     "data": {
      "text/plain": [
       "array([[0., 0.],\n",
       "       [0., 0.],\n",
       "       [0., 0.]], dtype=float32)"
      ]
     },
     "execution_count": 26,
     "metadata": {},
     "output_type": "execute_result"
    }
   ],
   "source": [
    "np.zeros((3,2), dtype=np.float32)"
   ]
  },
  {
   "cell_type": "code",
   "execution_count": 6,
   "metadata": {},
   "outputs": [
    {
     "name": "stdout",
     "output_type": "stream",
     "text": [
      "CPU times: user 461 µs, sys: 277 µs, total: 738 µs\n",
      "Wall time: 605 µs\n"
     ]
    }
   ],
   "source": [
    "%%time\n",
    "\n",
    "index = nmslib.init(method=\"sw-graph\", space=\"cosinesimil_sparse\",\n",
    "                    data_type=nmslib.DataType.SPARSE_VECTOR)\n",
    "#index.addDataPointBatch(ss.csr_matrix((100, 1000), dtype=np.float32), range(100))\n",
    "#index.createIndex({'indexThreadQty': 4}, print_progress=False)\n",
    "index.createIndex()"
   ]
  },
  {
   "cell_type": "code",
   "execution_count": 102,
   "metadata": {},
   "outputs": [
    {
     "name": "stdout",
     "output_type": "stream",
     "text": [
      "CPU times: user 910 ms, sys: 6.66 ms, total: 917 ms\n",
      "Wall time: 279 ms\n"
     ]
    }
   ],
   "source": [
    "%%time\n",
    "\n",
    "start_id = len(index)\n",
    "index.addDataPointBatch(data, range(start_id, start_id + data.shape[0]))\n",
    "index.createIndex({'indexThreadQty': 4}, print_progress=False)"
   ]
  },
  {
   "cell_type": "code",
   "execution_count": 103,
   "metadata": {},
   "outputs": [
    {
     "name": "stdout",
     "output_type": "stream",
     "text": [
      "CPU times: user 14.9 ms, sys: 13.2 ms, total: 28.1 ms\n",
      "Wall time: 30.1 ms\n"
     ]
    }
   ],
   "source": [
    "%time index.saveIndex(\"index.dump\")"
   ]
  },
  {
   "cell_type": "code",
   "execution_count": 36,
   "metadata": {},
   "outputs": [
    {
     "name": "stdout",
     "output_type": "stream",
     "text": [
      "16.6 ms ± 329 µs per loop (mean ± std. dev. of 7 runs, 100 loops each)\n"
     ]
    }
   ],
   "source": [
    "%timeit nbrs = index.knnQueryBatch(query, k=1, num_threads=4)"
   ]
  },
  {
   "cell_type": "code",
   "execution_count": 42,
   "metadata": {},
   "outputs": [
    {
     "name": "stdout",
     "output_type": "stream",
     "text": [
      "CPU times: user 4.17 s, sys: 13.5 ms, total: 4.18 s\n",
      "Wall time: 1.19 s\n"
     ]
    }
   ],
   "source": [
    "%time nbrs = index.knnQueryBatch(data, k=1, num_threads=4)"
   ]
  },
  {
   "cell_type": "code",
   "execution_count": 18,
   "metadata": {},
   "outputs": [
    {
     "name": "stdout",
     "output_type": "stream",
     "text": [
      "CPU times: user 38.2 ms, sys: 1.56 ms, total: 39.8 ms\n",
      "Wall time: 13.5 ms\n"
     ]
    }
   ],
   "source": [
    "%time nbrs = index.knnQueryBatch(X_train[228:328], k=1, num_threads=4)"
   ]
  },
  {
   "cell_type": "code",
   "execution_count": 43,
   "metadata": {},
   "outputs": [
    {
     "data": {
      "text/plain": [
       "18.82"
      ]
     },
     "execution_count": 43,
     "metadata": {},
     "output_type": "execute_result"
    }
   ],
   "source": [
    "sum([x[0][0] == y for x, y in zip(nbrs, index_ids)]) / 100"
   ]
  },
  {
   "cell_type": "code",
   "execution_count": 44,
   "metadata": {},
   "outputs": [
    {
     "data": {
      "text/plain": [
       "0.941"
      ]
     },
     "execution_count": 44,
     "metadata": {},
     "output_type": "execute_result"
    }
   ],
   "source": [
    "sum([x[0][0] == y for x, y in zip(nbrs, index_ids)]) / 2000"
   ]
  },
  {
   "cell_type": "markdown",
   "metadata": {},
   "source": [
    "---"
   ]
  },
  {
   "cell_type": "markdown",
   "metadata": {},
   "source": [
    "### PySparNN for ANN"
   ]
  },
  {
   "cell_type": "code",
   "execution_count": 47,
   "metadata": {},
   "outputs": [],
   "source": [
    "import pysparnn.cluster_index as ci"
   ]
  },
  {
   "cell_type": "code",
   "execution_count": 48,
   "metadata": {},
   "outputs": [
    {
     "name": "stdout",
     "output_type": "stream",
     "text": [
      "CPU times: user 3min 22s, sys: 3.77 s, total: 3min 25s\n",
      "Wall time: 3min 31s\n"
     ]
    }
   ],
   "source": [
    "%%time\n",
    "\n",
    "# build the search index!\n",
    "data_to_return = list(range(X_train.shape[0]))\n",
    "cp = ci.MultiClusterIndex(X_train, data_to_return, num_indexes=1)"
   ]
  },
  {
   "cell_type": "code",
   "execution_count": 51,
   "metadata": {},
   "outputs": [
    {
     "name": "stdout",
     "output_type": "stream",
     "text": [
      "4.19 s ± 122 ms per loop (mean ± std. dev. of 7 runs, 1 loop each)\n"
     ]
    }
   ],
   "source": [
    "%timeit nbrs = cp.search(data, k=1, return_distance=False)"
   ]
  },
  {
   "cell_type": "code",
   "execution_count": 53,
   "metadata": {},
   "outputs": [
    {
     "data": {
      "text/plain": [
       "0.981"
      ]
     },
     "execution_count": 53,
     "metadata": {},
     "output_type": "execute_result"
    }
   ],
   "source": [
    "sum([x[0] == y for x, y in zip(nbrs, index_ids)]) / 2000"
   ]
  },
  {
   "cell_type": "markdown",
   "metadata": {},
   "source": [
    "---"
   ]
  },
  {
   "cell_type": "code",
   "execution_count": 114,
   "metadata": {},
   "outputs": [],
   "source": [
    "\"\"\"\n",
    "Vector in a form: a * v\n",
    "\"\"\"\n",
    "class WeightVector:\n",
    "    # TODO: add squared norm\n",
    "\n",
    "    def __init__(self, dimension):\n",
    "        self.d = dimension\n",
    "        self.a = 1.0\n",
    "        self.v = np.zeros(self.d, dtype=np.float64)\n",
    "\n",
    "    def sparse_dot(self, u: ss.csr_matrix):\n",
    "        return dense_sparse_dot(self.v, u) * self.a\n",
    "\n",
    "    def sparse_add(self, u: ss.csr_matrix, s: float):\n",
    "        dense_sparse_add(self.v, u * (s / self.a), inplace=True)\n",
    "    \n",
    "    def add(self, other, s: float):\n",
    "        self.v *= self.a\n",
    "        self.v += other.v * other.a * s\n",
    "        self.a = 1.0\n",
    "\n",
    "    def scale(self, s: float):\n",
    "        if abs(s) < 1e-9:\n",
    "            self.__init__(self.d)\n",
    "        else:\n",
    "            self.a *= s\n",
    "    \n",
    "    def get_snorm(self):\n",
    "        return (self.a ** 2) * np.dot(self.v, self.v)"
   ]
  },
  {
   "cell_type": "code",
   "execution_count": 122,
   "metadata": {},
   "outputs": [],
   "source": [
    "def stochastic_pegasos(X: np.array, y: np.array, pos_class: int, random_seed=None) -> List[np.ndarray]:    \n",
    "    n, d = X.shape\n",
    "\n",
    "    labels = ((y == pos_class) * 2 - 1)\n",
    "\n",
    "    # TODO: make parameters\n",
    "    max_iter = 150000\n",
    "    num_to_avg = 120000\n",
    "    lambd = 0.0005\n",
    "    k = 100\n",
    "\n",
    "    if random_seed is not None:\n",
    "        np.random.seed(random_seed)\n",
    "    random_ids = np.random.choice(n, size=max_iter * k)\n",
    "\n",
    "    avg_scale = min(max_iter, num_to_avg)\n",
    "    avg_wv = WeightVector(d)\n",
    "    wv = WeightVector(d)\n",
    "    wvs = []\n",
    "\n",
    "    for i in tqdm(range(max_iter)):\n",
    "        x_ids = random_ids[i * k : (i + 1) * k]\n",
    "        eta = 1. / (lambd * (i + 2))\n",
    "        grad_ixs, grad_weights = [], []\n",
    "        for j in x_ids:\n",
    "            x = X.getrow(j)\n",
    "            pred = wv.sparse_dot(x)\n",
    "            label = labels[j]\n",
    "            if label * pred < 1:\n",
    "                grad_ixs.append(j)\n",
    "                grad_weights.append(eta * label / k)\n",
    "        # Scale wv\n",
    "        wv.scale(1. - eta * lambd)\n",
    "        # Add sub-gradients\n",
    "        for grad_ix, grad_w in zip(grad_ixs, grad_weights):\n",
    "            wv.sparse_add(X.getrow(grad_ix), grad_w)\n",
    "        # Projection step\n",
    "        wv.scale(min(1., 1. / np.sqrt(lambd * wv.get_snorm())))\n",
    "        # Average weights\n",
    "        if i >= max_iter - num_to_avg:\n",
    "            avg_wv.add(wv, 1. / avg_scale)\n",
    "            if (i + 1) % 100 == 0:\n",
    "                wvs.append(avg_wv.a * avg_wv.v)\n",
    "        else:\n",
    "            if (i + 1) % 100 == 0:\n",
    "                wvs.append(wv.a * wv.v)\n",
    "    \n",
    "    return wvs"
   ]
  },
  {
   "cell_type": "code",
   "execution_count": null,
   "metadata": {},
   "outputs": [],
   "source": [
    "def multi_pegasos(X: np.array, y: np.array, random_seed=None) -> List[np.ndarray]:    \n",
    "    n, d = X.shape\n",
    "\n",
    "    labels = ((y == pos_class) * 2 - 1)\n",
    "\n",
    "    # TODO: make parameters\n",
    "    max_iter = 150000\n",
    "    num_to_avg = 120000\n",
    "    lambd = 0.0005\n",
    "    k = 100\n",
    "\n",
    "    if random_seed is not None:\n",
    "        np.random.seed(random_seed)\n",
    "    random_ids = np.random.choice(n, size=max_iter * k)\n",
    "\n",
    "    avg_scale = min(max_iter, num_to_avg)\n",
    "    avg_wv = WeightVector(d)\n",
    "    wv = WeightVector(d)\n",
    "    wvs = []\n",
    "\n",
    "    for i in tqdm(range(max_iter)):\n",
    "        x_ids = random_ids[i * k : (i + 1) * k]\n",
    "        eta = 1. / (lambd * (i + 2))\n",
    "        grad_ixs, grad_weights = [], []\n",
    "        for j in x_ids:\n",
    "            x = X.getrow(j)\n",
    "            pred = wv.sparse_dot(x)\n",
    "            label = labels[j]\n",
    "            if label * pred < 1:\n",
    "                grad_ixs.append(j)\n",
    "                grad_weights.append(eta * label / k)\n",
    "        # Scale wv\n",
    "        wv.scale(1. - eta * lambd)\n",
    "        # Add sub-gradients\n",
    "        for grad_ix, grad_w in zip(grad_ixs, grad_weights):\n",
    "            wv.sparse_add(X.getrow(grad_ix), grad_w)\n",
    "        # Projection step\n",
    "        wv.scale(min(1., 1. / np.sqrt(lambd * wv.get_snorm())))\n",
    "        # Average weights\n",
    "        if i >= max_iter - num_to_avg:\n",
    "            avg_wv.add(wv, 1. / avg_scale)\n",
    "            if (i + 1) % 100 == 0:\n",
    "                wvs.append(avg_wv.a * avg_wv.v)\n",
    "        else:\n",
    "            if (i + 1) % 100 == 0:\n",
    "                wvs.append(wv.a * wv.v)\n",
    "    \n",
    "    return wvs"
   ]
  },
  {
   "cell_type": "code",
   "execution_count": 123,
   "metadata": {},
   "outputs": [],
   "source": [
    "pos_class = 11"
   ]
  },
  {
   "cell_type": "code",
   "execution_count": 124,
   "metadata": {},
   "outputs": [
    {
     "name": "stderr",
     "output_type": "stream",
     "text": [
      "100%|██████████| 150000/150000 [2:49:54<00:00, 14.71it/s]"
     ]
    },
    {
     "name": "stdout",
     "output_type": "stream",
     "text": [
      "CPU times: user 20min 55s, sys: 1min 40s, total: 22min 35s\n",
      "Wall time: 2h 49min 54s\n"
     ]
    },
    {
     "name": "stderr",
     "output_type": "stream",
     "text": [
      "\n"
     ]
    }
   ],
   "source": [
    "%time wvs = stochastic_pegasos(X_train, y_train, pos_class=pos_class, random_seed=0)"
   ]
  },
  {
   "cell_type": "markdown",
   "metadata": {},
   "source": [
    "---"
   ]
  },
  {
   "cell_type": "markdown",
   "metadata": {},
   "source": [
    "**Оценка качества:**"
   ]
  },
  {
   "cell_type": "code",
   "execution_count": 125,
   "metadata": {},
   "outputs": [],
   "source": [
    "from sklearn.metrics import accuracy_score, classification_report, confusion_matrix, f1_score\n",
    "from sklearn.linear_model import LogisticRegression"
   ]
  },
  {
   "cell_type": "code",
   "execution_count": 126,
   "metadata": {},
   "outputs": [],
   "source": [
    "w_pegasos = wvs[-1].reshape(-1, 1)"
   ]
  },
  {
   "cell_type": "code",
   "execution_count": 127,
   "metadata": {},
   "outputs": [
    {
     "data": {
      "text/plain": [
       "array([[ 0.02137611, -0.09405117,  0.02113176, ...,  0.        ,\n",
       "        -0.51107077, -0.51107077]])"
      ]
     },
     "execution_count": 127,
     "metadata": {},
     "output_type": "execute_result"
    }
   ],
   "source": [
    "w_pegasos.T"
   ]
  },
  {
   "cell_type": "code",
   "execution_count": 128,
   "metadata": {},
   "outputs": [
    {
     "name": "stdout",
     "output_type": "stream",
     "text": [
      "CPU times: user 1min 40s, sys: 2.26 s, total: 1min 42s\n",
      "Wall time: 1min 43s\n"
     ]
    }
   ],
   "source": [
    "%%time\n",
    "\n",
    "clf = LogisticRegression(C=1.0)\n",
    "clf.fit(X_train, y_train == pos_class)\n",
    "w_lr = clf.coef_.reshape(-1, 1)"
   ]
  },
  {
   "cell_type": "code",
   "execution_count": 129,
   "metadata": {},
   "outputs": [],
   "source": [
    "y_true = (y_test == pos_class)\n",
    "y_pred_pegasos = (X_test.dot(w_pegasos) > 0).T[0]\n",
    "y_pred_lr = (X_test.dot(w_lr) > 0).T[0]"
   ]
  },
  {
   "cell_type": "code",
   "execution_count": 130,
   "metadata": {},
   "outputs": [
    {
     "data": {
      "text/plain": [
       "Counter({False: 34301, True: 205})"
      ]
     },
     "execution_count": 130,
     "metadata": {},
     "output_type": "execute_result"
    }
   ],
   "source": [
    "collections.Counter(y_pred_pegasos)"
   ]
  },
  {
   "cell_type": "code",
   "execution_count": 131,
   "metadata": {},
   "outputs": [
    {
     "data": {
      "text/plain": [
       "Counter({False: 34201, True: 305})"
      ]
     },
     "execution_count": 131,
     "metadata": {},
     "output_type": "execute_result"
    }
   ],
   "source": [
    "collections.Counter(y_pred_lr)"
   ]
  },
  {
   "cell_type": "code",
   "execution_count": 132,
   "metadata": {},
   "outputs": [
    {
     "name": "stdout",
     "output_type": "stream",
     "text": [
      "             precision    recall  f1-score   support\n",
      "\n",
      "      False       0.99      1.00      1.00     34090\n",
      "       True       0.71      0.35      0.47       416\n",
      "\n",
      "avg / total       0.99      0.99      0.99     34506\n",
      "\n"
     ]
    }
   ],
   "source": [
    "print(classification_report(y_true, y_pred_pegasos))"
   ]
  },
  {
   "cell_type": "code",
   "execution_count": 133,
   "metadata": {},
   "outputs": [
    {
     "name": "stdout",
     "output_type": "stream",
     "text": [
      "             precision    recall  f1-score   support\n",
      "\n",
      "      False       0.99      1.00      0.99     34090\n",
      "       True       0.57      0.42      0.48       416\n",
      "\n",
      "avg / total       0.99      0.99      0.99     34506\n",
      "\n"
     ]
    }
   ],
   "source": [
    "print(classification_report(y_true, y_pred_lr))"
   ]
  },
  {
   "cell_type": "code",
   "execution_count": 134,
   "metadata": {},
   "outputs": [
    {
     "data": {
      "text/plain": [
       "array([[34031,    59],\n",
       "       [  270,   146]])"
      ]
     },
     "execution_count": 134,
     "metadata": {},
     "output_type": "execute_result"
    }
   ],
   "source": [
    "confusion_matrix(y_true, y_pred_pegasos)"
   ]
  },
  {
   "cell_type": "code",
   "execution_count": 135,
   "metadata": {},
   "outputs": [
    {
     "data": {
      "text/plain": [
       "array([[33959,   131],\n",
       "       [  242,   174]])"
      ]
     },
     "execution_count": 135,
     "metadata": {},
     "output_type": "execute_result"
    }
   ],
   "source": [
    "confusion_matrix(y_true, y_pred_lr)"
   ]
  },
  {
   "cell_type": "markdown",
   "metadata": {},
   "source": [
    "---"
   ]
  },
  {
   "cell_type": "code",
   "execution_count": 136,
   "metadata": {},
   "outputs": [
    {
     "name": "stderr",
     "output_type": "stream",
     "text": [
      "100%|██████████| 1500/1500 [04:47<00:00,  5.21it/s]\n"
     ]
    },
    {
     "name": "stdout",
     "output_type": "stream",
     "text": [
      "CPU times: user 4min 34s, sys: 11.9 s, total: 4min 46s\n",
      "Wall time: 4min 47s\n"
     ]
    }
   ],
   "source": [
    "%%time\n",
    "\n",
    "f1s_train = []\n",
    "f1s_test = []\n",
    "\n",
    "for w in tqdm(wvs):\n",
    "    w = w.reshape(-1, 1)\n",
    "    y_true = (y_train == pos_class)\n",
    "    y_pred = (X_train.dot(w) > 0).T[0]\n",
    "    f1s_train.append(f1_score(y_true, y_pred))\n",
    "    y_true = (y_test == pos_class)\n",
    "    y_pred = (X_test.dot(w) > 0).T[0]\n",
    "    f1s_test.append(f1_score(y_true, y_pred))"
   ]
  },
  {
   "cell_type": "code",
   "execution_count": 140,
   "metadata": {},
   "outputs": [
    {
     "data": {
      "text/plain": [
       "(4757,)"
      ]
     },
     "execution_count": 140,
     "metadata": {},
     "output_type": "execute_result"
    }
   ],
   "source": [
    "y_train[y_train == 11].shape"
   ]
  },
  {
   "cell_type": "code",
   "execution_count": 137,
   "metadata": {},
   "outputs": [
    {
     "data": {
      "image/png": "[encoded data removed]",
      "text/plain": [
       "<matplotlib.figure.Figure at 0x1193db438>"
      ]
     },
     "metadata": {},
     "output_type": "display_data"
    }
   ],
   "source": [
    "plt.figure(figsize=(16, 8))\n",
    "plt.plot(range(len(f1s_train)), f1s_train)\n",
    "plt.plot(range(len(f1s_test)), f1s_test)\n",
    "plt.title(\"DMOZ\")\n",
    "plt.ylabel(\"F1\")\n",
    "plt.xlabel(\"Number of trained objects * 10000\")\n",
    "plt.legend([\"train\", \"heldout\"], loc=\"lower right\")\n",
    "plt.savefig(\"DMOZ_binary.eps\", bbox_inches=\"tight\")\n",
    "plt.savefig(\"DMOZ_binary.png\", bbox_inches=\"tight\", dpi=300)"
   ]
  },
  {
   "cell_type": "markdown",
   "metadata": {},
   "source": [
    "---"
   ]
  }
 ],
 "metadata": {
  "kernelspec": {
   "display_name": "Python 3",
   "language": "python",
   "name": "python3"
  },
  "language_info": {
   "codemirror_mode": {
    "name": "ipython",
    "version": 3
   },
   "file_extension": ".py",
   "mimetype": "text/x-python",
   "name": "python",
   "nbconvert_exporter": "python",
   "pygments_lexer": "ipython3",
   "version": "3.6.4"
  }
 },
 "nbformat": 4,
 "nbformat_minor": 2
}
