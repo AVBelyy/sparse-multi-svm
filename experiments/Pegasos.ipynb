{
 "cells": [
  {
   "cell_type": "code",
   "execution_count": 182,
   "metadata": {},
   "outputs": [
    {
     "name": "stdout",
     "output_type": "stream",
     "text": [
      "The autoreload extension is already loaded. To reload it, use:\n",
      "  %reload_ext autoreload\n"
     ]
    }
   ],
   "source": [
    "%load_ext autoreload\n",
    "%autoreload 2\n",
    "%matplotlib inline\n",
    "\n",
    "import os\n",
    "import pickle\n",
    "import nmslib\n",
    "import collections\n",
    "import numpy as np\n",
    "import pandas as pd\n",
    "import scipy.sparse as ss\n",
    "import matplotlib.pyplot as plt\n",
    "import matplotlib\n",
    "from typing import List\n",
    "from sklearn.feature_extraction.text import TfidfTransformer\n",
    "from lib.sparse_tools import dense_sparse_dot, dense_sparse_add, sparse_sparse_dot\n",
    "from lib.argmax_tools import BruteforceArgmax, ANNArgmax\n",
    "from sklearn.metrics import accuracy_score, classification_report, confusion_matrix, f1_score, accuracy_score\n",
    "from sklearn.linear_model import LogisticRegression\n",
    "from sklearn.metrics import pairwise_distances_argmin\n",
    "from sklearn.metrics.pairwise import cosine_similarity\n",
    "from sklearn.preprocessing import normalize\n",
    "from sklearn.metrics.pairwise import linear_kernel\n",
    "from sklearn.utils.extmath import safe_sparse_dot\n",
    "from tqdm import tqdm"
   ]
  },
  {
   "cell_type": "code",
   "execution_count": 183,
   "metadata": {},
   "outputs": [],
   "source": [
    "matplotlib.rcParams.update({'font.size': 12})"
   ]
  },
  {
   "cell_type": "markdown",
   "metadata": {},
   "source": [
    "Our datasets:"
   ]
  },
  {
   "cell_type": "code",
   "execution_count": 184,
   "metadata": {},
   "outputs": [],
   "source": [
    "datasets_names = (\"LSHTC1\", \"DMOZ\", \"WIKI_Small\", \"WIKI_50K\", \"WIKI_100K\")\n",
    "dataset_dir = \"../data\"\n",
    "out_dir = \"../data/parsed\""
   ]
  },
  {
   "cell_type": "code",
   "execution_count": 185,
   "metadata": {},
   "outputs": [
    {
     "name": "stdout",
     "output_type": "stream",
     "text": [
      "CPU times: user 108 ms, sys: 373 ms, total: 481 ms\n",
      "Wall time: 817 ms\n"
     ]
    }
   ],
   "source": [
    "%%time\n",
    "\n",
    "# Read the dataset.\n",
    "\n",
    "# dataset_name = \"WIKI_Small\"\n",
    "# dataset_name = \"DMOZ\"\n",
    "dataset_name = \"LSHTC1\"\n",
    "# dataset_name = \"20newsgroups\"\n",
    "\n",
    "with open(os.path.join(out_dir, \"%s_train.dump\" % dataset_name), \"rb\") as fin:\n",
    "    X_train = pickle.load(fin)\n",
    "with open(os.path.join(out_dir, \"%s_train_out.dump\" % dataset_name), \"rb\") as fin:\n",
    "    y_train = pickle.load(fin)\n",
    "with open(os.path.join(out_dir, \"%s_heldout.dump\" % dataset_name), \"rb\") as fin:\n",
    "    X_heldout = pickle.load(fin)\n",
    "with open(os.path.join(out_dir, \"%s_heldout_out.dump\" % dataset_name), \"rb\") as fin:\n",
    "    y_heldout = pickle.load(fin)\n",
    "with open(os.path.join(out_dir, \"%s_test.dump\" % dataset_name), \"rb\") as fin:\n",
    "    X_test = pickle.load(fin)\n",
    "with open(os.path.join(out_dir, \"%s_test_out.dump\" % dataset_name), \"rb\") as fin:\n",
    "    y_test = pickle.load(fin)\n",
    "\n",
    "n_classes = 0\n",
    "for dataset_part in (\"train\", \"heldout\", \"test\"):\n",
    "    with open(os.path.join(out_dir, \"%s_%s_out.dump\" % (dataset_name, dataset_part)), \"rb\") as fin:\n",
    "        labels = pickle.load(fin)\n",
    "        n_classes = max(n_classes, max(labels) + 1)"
   ]
  },
  {
   "cell_type": "code",
   "execution_count": 186,
   "metadata": {},
   "outputs": [],
   "source": [
    "classes_objects = collections.defaultdict(list)\n",
    "classes_cnt = [0] * n_classes\n",
    "for i, y in enumerate(y_train):\n",
    "    classes_objects[y].append(i)\n",
    "    classes_cnt[y] += 1\n",
    "classes_cnt = np.array(classes_cnt)"
   ]
  },
  {
   "cell_type": "markdown",
   "metadata": {},
   "source": [
    "---"
   ]
  },
  {
   "cell_type": "code",
   "execution_count": 26,
   "metadata": {},
   "outputs": [],
   "source": [
    "a = ss.random(1000, 10000).tocsr()\n",
    "bT = ss.random(2000, 10000).T\n",
    "bTR = ss.random(2000, 10000).T.tocsr()\n",
    "bTC = ss.random(2000, 10000).T.tocsc()"
   ]
  },
  {
   "cell_type": "code",
   "execution_count": 27,
   "metadata": {},
   "outputs": [
    {
     "name": "stdout",
     "output_type": "stream",
     "text": [
      "34.4 ms ± 658 µs per loop (mean ± std. dev. of 7 runs, 10 loops each)\n"
     ]
    }
   ],
   "source": [
    "%timeit a.dot(bT)"
   ]
  },
  {
   "cell_type": "code",
   "execution_count": 28,
   "metadata": {},
   "outputs": [
    {
     "name": "stdout",
     "output_type": "stream",
     "text": [
      "27.6 ms ± 319 µs per loop (mean ± std. dev. of 7 runs, 10 loops each)\n"
     ]
    }
   ],
   "source": [
    "%timeit a.dot(bTR)"
   ]
  },
  {
   "cell_type": "code",
   "execution_count": 29,
   "metadata": {},
   "outputs": [
    {
     "name": "stdout",
     "output_type": "stream",
     "text": [
      "29.7 ms ± 165 µs per loop (mean ± std. dev. of 7 runs, 10 loops each)\n"
     ]
    }
   ],
   "source": [
    "%timeit a.dot(bTC)"
   ]
  },
  {
   "cell_type": "markdown",
   "metadata": {},
   "source": [
    "#### Average IoU of classes (as bag-of-words of their documents):"
   ]
  },
  {
   "cell_type": "code",
   "execution_count": 105,
   "metadata": {},
   "outputs": [],
   "source": [
    "classes_tokens = collections.defaultdict(set)"
   ]
  },
  {
   "cell_type": "code",
   "execution_count": 106,
   "metadata": {},
   "outputs": [
    {
     "name": "stderr",
     "output_type": "stream",
     "text": [
      "126871it [00:05, 25231.02it/s]"
     ]
    },
    {
     "name": "stdout",
     "output_type": "stream",
     "text": [
      "CPU times: user 4.49 s, sys: 453 ms, total: 4.94 s\n",
      "Wall time: 5.03 s\n"
     ]
    },
    {
     "name": "stderr",
     "output_type": "stream",
     "text": [
      "\n"
     ]
    }
   ],
   "source": [
    "%%time\n",
    "\n",
    "for a, b, y in tqdm(zip(X_train.indptr, X_train.indptr[1:], y_train)):\n",
    "    classes_tokens[y] |= set(X_train.indices[a:b])"
   ]
  },
  {
   "cell_type": "code",
   "execution_count": null,
   "metadata": {},
   "outputs": [],
   "source": [
    "%%time\n",
    "\n",
    "avg_iou_num = 0\n",
    "avg_iou_den = 0\n",
    "\n",
    "for y1, c1 in tqdm(classes_tokens.items()):\n",
    "    for y2, c2 in classes_tokens.items():\n",
    "        u = len(c1 | c2)\n",
    "        if u > 0:\n",
    "            iou = len(c1 & c2) / u\n",
    "            avg_iou_num += iou\n",
    "            avg_iou_den += 1"
   ]
  },
  {
   "cell_type": "code",
   "execution_count": 152,
   "metadata": {},
   "outputs": [
    {
     "data": {
      "text/plain": [
       "0.11863847316584965"
      ]
     },
     "execution_count": 152,
     "metadata": {},
     "output_type": "execute_result"
    }
   ],
   "source": [
    "avg_iou_num/avg_iou_den"
   ]
  },
  {
   "cell_type": "markdown",
   "metadata": {},
   "source": [
    "---"
   ]
  },
  {
   "cell_type": "markdown",
   "metadata": {},
   "source": [
    "Iris datasets:"
   ]
  },
  {
   "cell_type": "code",
   "execution_count": null,
   "metadata": {},
   "outputs": [],
   "source": [
    "from sklearn.datasets import load_iris\n",
    "from sklearn.model_selection import train_test_split"
   ]
  },
  {
   "cell_type": "code",
   "execution_count": null,
   "metadata": {},
   "outputs": [],
   "source": [
    "iris_data = load_iris()\n",
    "X, y = iris_data[\"data\"], iris_data[\"target\"]"
   ]
  },
  {
   "cell_type": "code",
   "execution_count": null,
   "metadata": {},
   "outputs": [],
   "source": [
    "X = np.hstack([X, np.ones(X.shape[0]).reshape(-1, 1)])\n",
    "X = ss.csr_matrix(X)"
   ]
  },
  {
   "cell_type": "code",
   "execution_count": null,
   "metadata": {},
   "outputs": [],
   "source": [
    "X_train, X_test, y_train, y_test = train_test_split(X, y, test_size=0.2, random_state=0)"
   ]
  },
  {
   "cell_type": "markdown",
   "metadata": {},
   "source": [
    "---"
   ]
  },
  {
   "cell_type": "code",
   "execution_count": 187,
   "metadata": {},
   "outputs": [
    {
     "name": "stdout",
     "output_type": "stream",
     "text": [
      "CPU times: user 4 µs, sys: 1 µs, total: 5 µs\n",
      "Wall time: 7.87 µs\n"
     ]
    }
   ],
   "source": [
    "%%time\n",
    "\n",
    "# X_train, X_test = normalize(X_train, norm=\"l1\"), normalize(X_test, norm=\"l1\")"
   ]
  },
  {
   "cell_type": "code",
   "execution_count": 188,
   "metadata": {},
   "outputs": [
    {
     "name": "stdout",
     "output_type": "stream",
     "text": [
      "CPU times: user 997 ms, sys: 1.07 s, total: 2.07 s\n",
      "Wall time: 3.75 s\n"
     ]
    }
   ],
   "source": [
    "%%time\n",
    "\n",
    "X_train = ss.hstack([X_train, np.ones(X_train.shape[0]).reshape(-1, 1)])\n",
    "X_heldout = ss.hstack([X_heldout, np.ones(X_heldout.shape[0]).reshape(-1, 1)])\n",
    "X_test = ss.hstack([X_test, np.ones(X_test.shape[0]).reshape(-1, 1)])\n",
    "X_train, X_heldout, X_test = ss.csr_matrix(X_train), ss.csr_matrix(X_heldout), ss.csr_matrix(X_test)"
   ]
  },
  {
   "cell_type": "markdown",
   "metadata": {},
   "source": [
    "---"
   ]
  },
  {
   "cell_type": "markdown",
   "metadata": {},
   "source": [
    "### M-SVM from liblinear"
   ]
  },
  {
   "cell_type": "code",
   "execution_count": 156,
   "metadata": {},
   "outputs": [],
   "source": [
    "import liblinear"
   ]
  },
  {
   "cell_type": "code",
   "execution_count": 44,
   "metadata": {},
   "outputs": [
    {
     "name": "stdout",
     "output_type": "stream",
     "text": [
      "CPU times: user 1min 22s, sys: 4.15 s, total: 1min 27s\n",
      "Wall time: 1min 33s\n"
     ]
    }
   ],
   "source": [
    "%time m = liblinear.train(y_train[:1000], X_train[:1000], \"-s 4\")"
   ]
  },
  {
   "cell_type": "code",
   "execution_count": 53,
   "metadata": {},
   "outputs": [
    {
     "name": "stdout",
     "output_type": "stream",
     "text": [
      "CPU times: user 55.8 s, sys: 2.5 s, total: 58.3 s\n",
      "Wall time: 1min\n"
     ]
    }
   ],
   "source": [
    "%time liblinear.save_model(\"msvm.mdl\", m)"
   ]
  },
  {
   "cell_type": "code",
   "execution_count": 248,
   "metadata": {},
   "outputs": [
    {
     "data": {
      "text/plain": [
       "65960"
      ]
     },
     "execution_count": 248,
     "metadata": {},
     "output_type": "execute_result"
    }
   ],
   "source": [
    "X_train.shape[0] * 5"
   ]
  },
  {
   "cell_type": "markdown",
   "metadata": {},
   "source": [
    "---"
   ]
  },
  {
   "cell_type": "code",
   "execution_count": 14,
   "metadata": {},
   "outputs": [],
   "source": [
    "np.random.seed(0)\n",
    "index_ids = np.random.randint(X_train.shape[0], size=2000)\n",
    "query_ids = np.random.randint(len(index_ids), size=100)"
   ]
  },
  {
   "cell_type": "code",
   "execution_count": 15,
   "metadata": {},
   "outputs": [
    {
     "name": "stdout",
     "output_type": "stream",
     "text": [
      "CPU times: user 8.32 ms, sys: 4.13 ms, total: 12.4 ms\n",
      "Wall time: 11.2 ms\n"
     ]
    }
   ],
   "source": [
    "%%time\n",
    "\n",
    "data = X_train[index_ids] #.toarray()\n",
    "query = data[query_ids]"
   ]
  },
  {
   "cell_type": "markdown",
   "metadata": {},
   "source": [
    "### nmslib for ANN"
   ]
  },
  {
   "cell_type": "code",
   "execution_count": 12,
   "metadata": {},
   "outputs": [],
   "source": [
    "import nmslib"
   ]
  },
  {
   "cell_type": "code",
   "execution_count": 15,
   "metadata": {},
   "outputs": [
    {
     "name": "stdout",
     "output_type": "stream",
     "text": [
      "CPU times: user 236 µs, sys: 1.58 ms, total: 1.81 ms\n",
      "Wall time: 1.79 ms\n"
     ]
    }
   ],
   "source": [
    "%%time\n",
    "\n",
    "index = nmslib.init(method=\"sw-graph\", space=\"cosinesimil_sparse\",\n",
    "                    data_type=nmslib.DataType.SPARSE_VECTOR)\n",
    "#index.addDataPointBatch(ss.csr_matrix((100, 1000), dtype=np.float32), range(100))\n",
    "#index.createIndex({'indexThreadQty': 4}, print_progress=False)\n",
    "index.createIndex({'indexThreadQty': 4})"
   ]
  },
  {
   "cell_type": "code",
   "execution_count": 102,
   "metadata": {},
   "outputs": [
    {
     "name": "stdout",
     "output_type": "stream",
     "text": [
      "CPU times: user 910 ms, sys: 6.66 ms, total: 917 ms\n",
      "Wall time: 279 ms\n"
     ]
    }
   ],
   "source": [
    "%%time\n",
    "\n",
    "start_id = len(index)\n",
    "index.addDataPointBatch(data, range(start_id, start_id + data.shape[0]))\n",
    "index.createIndex({'indexThreadQty': 4}, print_progress=False)"
   ]
  },
  {
   "cell_type": "code",
   "execution_count": 103,
   "metadata": {},
   "outputs": [
    {
     "name": "stdout",
     "output_type": "stream",
     "text": [
      "CPU times: user 14.9 ms, sys: 13.2 ms, total: 28.1 ms\n",
      "Wall time: 30.1 ms\n"
     ]
    }
   ],
   "source": [
    "%time index.saveIndex(\"index.dump\")"
   ]
  },
  {
   "cell_type": "code",
   "execution_count": 36,
   "metadata": {},
   "outputs": [
    {
     "name": "stdout",
     "output_type": "stream",
     "text": [
      "16.6 ms ± 329 µs per loop (mean ± std. dev. of 7 runs, 100 loops each)\n"
     ]
    }
   ],
   "source": [
    "%timeit nbrs = index.knnQueryBatch(query, k=1, num_threads=4)"
   ]
  },
  {
   "cell_type": "code",
   "execution_count": 42,
   "metadata": {},
   "outputs": [
    {
     "name": "stdout",
     "output_type": "stream",
     "text": [
      "CPU times: user 4.17 s, sys: 13.5 ms, total: 4.18 s\n",
      "Wall time: 1.19 s\n"
     ]
    }
   ],
   "source": [
    "%time nbrs = index.knnQueryBatch(data, k=1, num_threads=4)"
   ]
  },
  {
   "cell_type": "code",
   "execution_count": 18,
   "metadata": {},
   "outputs": [
    {
     "name": "stdout",
     "output_type": "stream",
     "text": [
      "CPU times: user 38.2 ms, sys: 1.56 ms, total: 39.8 ms\n",
      "Wall time: 13.5 ms\n"
     ]
    }
   ],
   "source": [
    "%time nbrs = index.knnQueryBatch(X_train[228:328], k=1, num_threads=4)"
   ]
  },
  {
   "cell_type": "code",
   "execution_count": 43,
   "metadata": {},
   "outputs": [
    {
     "data": {
      "text/plain": [
       "18.82"
      ]
     },
     "execution_count": 43,
     "metadata": {},
     "output_type": "execute_result"
    }
   ],
   "source": [
    "sum([x[0][0] == y for x, y in zip(nbrs, index_ids)]) / 100"
   ]
  },
  {
   "cell_type": "code",
   "execution_count": 44,
   "metadata": {},
   "outputs": [
    {
     "data": {
      "text/plain": [
       "0.941"
      ]
     },
     "execution_count": 44,
     "metadata": {},
     "output_type": "execute_result"
    }
   ],
   "source": [
    "sum([x[0][0] == y for x, y in zip(nbrs, index_ids)]) / 2000"
   ]
  },
  {
   "cell_type": "markdown",
   "metadata": {},
   "source": [
    "---"
   ]
  },
  {
   "cell_type": "markdown",
   "metadata": {},
   "source": [
    "### PySparNN for ANN"
   ]
  },
  {
   "cell_type": "code",
   "execution_count": 47,
   "metadata": {},
   "outputs": [],
   "source": [
    "import pysparnn.cluster_index as ci"
   ]
  },
  {
   "cell_type": "code",
   "execution_count": 48,
   "metadata": {},
   "outputs": [
    {
     "name": "stdout",
     "output_type": "stream",
     "text": [
      "CPU times: user 3min 22s, sys: 3.77 s, total: 3min 25s\n",
      "Wall time: 3min 31s\n"
     ]
    }
   ],
   "source": [
    "%%time\n",
    "\n",
    "# build the search index!\n",
    "data_to_return = list(range(X_train.shape[0]))\n",
    "cp = ci.MultiClusterIndex(X_train, data_to_return, num_indexes=1)"
   ]
  },
  {
   "cell_type": "code",
   "execution_count": 51,
   "metadata": {},
   "outputs": [
    {
     "name": "stdout",
     "output_type": "stream",
     "text": [
      "4.19 s ± 122 ms per loop (mean ± std. dev. of 7 runs, 1 loop each)\n"
     ]
    }
   ],
   "source": [
    "%timeit nbrs = cp.search(data, k=1, return_distance=False)"
   ]
  },
  {
   "cell_type": "code",
   "execution_count": 53,
   "metadata": {},
   "outputs": [
    {
     "data": {
      "text/plain": [
       "0.981"
      ]
     },
     "execution_count": 53,
     "metadata": {},
     "output_type": "execute_result"
    }
   ],
   "source": [
    "sum([x[0] == y for x, y in zip(nbrs, index_ids)]) / 2000"
   ]
  },
  {
   "cell_type": "markdown",
   "metadata": {},
   "source": [
    "---"
   ]
  },
  {
   "cell_type": "code",
   "execution_count": 5,
   "metadata": {},
   "outputs": [],
   "source": [
    "\"\"\"\n",
    "Vector in a form: a * v\n",
    "\"\"\"\n",
    "class WeightVector:\n",
    "    # TODO: add squared norm\n",
    "\n",
    "    def __init__(self, dimension):\n",
    "        self.d = dimension\n",
    "        self.a = 1.0\n",
    "        self.v = np.zeros(self.d, dtype=np.float64)\n",
    "\n",
    "    def sparse_dot(self, u: ss.csr_matrix):\n",
    "        return dense_sparse_dot(self.v, u) * self.a\n",
    "\n",
    "    def sparse_add(self, u: ss.csr_matrix, s: float):\n",
    "        dense_sparse_add(self.v, u * (s / self.a), inplace=True)\n",
    "    \n",
    "    def add(self, other, s: float):\n",
    "        self.v *= self.a\n",
    "        self.v += other.v * other.a * s\n",
    "        self.a = 1.0\n",
    "\n",
    "    def scale(self, s: float):\n",
    "        if abs(s) < 1e-9:\n",
    "            self.__init__(self.d)\n",
    "        else:\n",
    "            self.a *= s\n",
    "    \n",
    "    def get_snorm(self):\n",
    "        return (self.a ** 2) * np.dot(self.v, self.v)"
   ]
  },
  {
   "cell_type": "code",
   "execution_count": 10,
   "metadata": {},
   "outputs": [],
   "source": [
    "\"\"\"\n",
    "Matrix in a form: a * [v_i], i=1...n\n",
    "\"\"\"\n",
    "\n",
    "\n",
    "class WeightMatrix:\n",
    "    def __init__(self, dim):\n",
    "        self.dim = n, d = dim\n",
    "        self.a = 1.0\n",
    "        self.snorm = 0.\n",
    "        self.m = [ss.csr_matrix((1, d), dtype=np.float32) for _ in range(n)]\n",
    "\n",
    "    def sparse_dot(self, ix: int, v: ss.csr_matrix):\n",
    "        return sparse_sparse_dot(self.m[ix], v) * self.a\n",
    "\n",
    "    def sparse_add(self, ix: int, v: ss.csr_matrix, s: float):\n",
    "        old_ix_norm = np.dot(self.m[ix].data, self.m[ix].data)\n",
    "        self.m[ix] += v * (s / self.a)\n",
    "        new_ix_norm = np.dot(self.m[ix].data, self.m[ix].data)\n",
    "        self.snorm += (new_ix_norm - old_ix_norm) * (self.a * self.a)\n",
    "        return self.m[ix] * self.a\n",
    "\n",
    "    def scale(self, s: float):\n",
    "        if abs(s) < 1e-32:\n",
    "            self.__init__(self.dim)\n",
    "        else:\n",
    "            self.a *= s\n",
    "            self.snorm *= (s*s)"
   ]
  },
  {
   "cell_type": "code",
   "execution_count": 7,
   "metadata": {},
   "outputs": [],
   "source": [
    "def stochastic_pegasos(X: np.array, y: np.array, pos_class: int, random_seed=None) -> List[np.ndarray]:    \n",
    "    n, d = X.shape\n",
    "\n",
    "    labels = ((y == pos_class) * 2 - 1)\n",
    "\n",
    "    # TODO: make parameters\n",
    "    max_iter = 150000\n",
    "    num_to_avg = 120000\n",
    "    lambd = 0.0005\n",
    "    k = 100\n",
    "\n",
    "    if random_seed is not None:\n",
    "        np.random.seed(random_seed)\n",
    "    random_ids = np.random.choice(n, size=max_iter * k)\n",
    "\n",
    "    avg_scale = min(max_iter, num_to_avg)\n",
    "    avg_wv = WeightVector(d)\n",
    "    wv = WeightVector(d)\n",
    "    wvs = []\n",
    "\n",
    "    for i in tqdm(range(max_iter)):\n",
    "        x_ids = random_ids[i * k : (i + 1) * k]\n",
    "        eta = 1. / (lambd * (i + 2))\n",
    "        grad_ixs, grad_weights = [], []\n",
    "        for j in x_ids:\n",
    "            x = X.getrow(j)\n",
    "            pred = wv.sparse_dot(x)\n",
    "            label = labels[j]\n",
    "            if label * pred < 1:\n",
    "                grad_ixs.append(j)\n",
    "                grad_weights.append(eta * label / k)\n",
    "        # Scale wv\n",
    "        wv.scale(1. - eta * lambd)\n",
    "        # Add sub-gradients\n",
    "        for grad_ix, grad_w in zip(grad_ixs, grad_weights):\n",
    "            wv.sparse_add(X.getrow(grad_ix), grad_w)\n",
    "        # Projection step\n",
    "        wv.scale(min(1., 1. / np.sqrt(lambd * wv.get_snorm())))\n",
    "        # Average weights\n",
    "        if i >= max_iter - num_to_avg:\n",
    "            avg_wv.add(wv, 1. / avg_scale)\n",
    "            if (i + 1) % 100 == 0:\n",
    "                wvs.append(avg_wv.a * avg_wv.v)\n",
    "        else:\n",
    "            if (i + 1) % 100 == 0:\n",
    "                wvs.append(wv.a * wv.v)\n",
    "    \n",
    "    return wvs"
   ]
  },
  {
   "cell_type": "code",
   "execution_count": 8,
   "metadata": {},
   "outputs": [],
   "source": [
    "def multi_pegasos(X: np.array, y: np.array, random_seed=None) -> List[np.ndarray]:    \n",
    "    n, d = X.shape\n",
    "\n",
    "    # TODO: make parameters\n",
    "    max_iter = 150000\n",
    "    lambd = 0.0005\n",
    "    k = 100\n",
    "\n",
    "    W = WeightMatrix((n_classes, d))\n",
    "    #amax = BruteforceArgmax(W)\n",
    "    amax = ANNArgmax()\n",
    "\n",
    "    if random_seed is not None:\n",
    "        np.random.seed(random_seed)\n",
    "    random_ids = np.random.choice(n, size=max_iter * k)\n",
    "\n",
    "    #avg_scale = min(max_iter, num_to_avg)\n",
    "    #avg_wv = WeightVector(d)\n",
    "\n",
    "    for i in tqdm(range(max_iter)):\n",
    "        x_ids = random_ids[i * k : (i + 1) * k]\n",
    "        xs = X[x_ids]\n",
    "        eta = 1. / (lambd * (i + 2))\n",
    "        ys = y[x_ids]\n",
    "        rs = amax.query(xs)\n",
    "        grad_ixs, grad_weights = [], []\n",
    "        for j_, y_, r_, x_  in zip(x_ids, ys, rs, xs):\n",
    "            loss = max(0, 1 + W.sparse_dot(r_, x_) - W.sparse_dot(y_, x_))\n",
    "            if loss > 0:\n",
    "                grad_ixs.append((y_, j_))\n",
    "                grad_weights.append(+eta / k)\n",
    "                grad_ixs.append((r_, j_))\n",
    "                grad_weights.append(-eta / k)\n",
    "        # Scale weight matrix\n",
    "        W.scale(1. - eta * lambd)\n",
    "        # Add sub-gradients and project rows onto a sphere of r=1\n",
    "        update = {}\n",
    "        for (class_ix, obj_ix), grad_w in zip(grad_ixs, grad_weights):\n",
    "            upd = W.sparse_add(class_ix, X.getrow(obj_ix), grad_w)\n",
    "            # TODO: FASTER, UNNEEDED?\n",
    "            #upd *= min(1., 1. / np.sqrt(lambd * sparse_sparse_dot(upd, upd)))\n",
    "            if upd.nnz > 0:\n",
    "                update[class_ix] = upd\n",
    "        class_ixs = list(update.keys())\n",
    "        new_values = ss.vstack(list(update.values()))\n",
    "        amax.update(class_ixs, new_values)\n",
    "\n",
    "    return W"
   ]
  },
  {
   "cell_type": "code",
   "execution_count": null,
   "metadata": {},
   "outputs": [
    {
     "name": "stderr",
     "output_type": "stream",
     "text": [
      "  1%|          | 1467/150000 [11:04<18:41:52,  2.21it/s]"
     ]
    }
   ],
   "source": [
    "%time wvs = multi_pegasos(X_train, y_train, random_seed=0)"
   ]
  },
  {
   "cell_type": "code",
   "execution_count": 124,
   "metadata": {},
   "outputs": [
    {
     "name": "stderr",
     "output_type": "stream",
     "text": [
      "100%|██████████| 150000/150000 [2:49:54<00:00, 14.71it/s]"
     ]
    },
    {
     "name": "stdout",
     "output_type": "stream",
     "text": [
      "CPU times: user 20min 55s, sys: 1min 40s, total: 22min 35s\n",
      "Wall time: 2h 49min 54s\n"
     ]
    },
    {
     "name": "stderr",
     "output_type": "stream",
     "text": [
      "\n"
     ]
    }
   ],
   "source": [
    "%time wvs = stochastic_pegasos(X_train, y_train, pos_class=pos_class, random_seed=0)"
   ]
  },
  {
   "cell_type": "markdown",
   "metadata": {},
   "source": [
    "---"
   ]
  },
  {
   "cell_type": "markdown",
   "metadata": {},
   "source": [
    "**Оценка качества:**"
   ]
  },
  {
   "cell_type": "code",
   "execution_count": 126,
   "metadata": {},
   "outputs": [],
   "source": [
    "w_pegasos = wvs[-1].reshape(-1, 1)"
   ]
  },
  {
   "cell_type": "code",
   "execution_count": 127,
   "metadata": {},
   "outputs": [
    {
     "data": {
      "text/plain": [
       "array([[ 0.02137611, -0.09405117,  0.02113176, ...,  0.        ,\n",
       "        -0.51107077, -0.51107077]])"
      ]
     },
     "execution_count": 127,
     "metadata": {},
     "output_type": "execute_result"
    }
   ],
   "source": [
    "w_pegasos.T"
   ]
  },
  {
   "cell_type": "code",
   "execution_count": 128,
   "metadata": {},
   "outputs": [
    {
     "name": "stdout",
     "output_type": "stream",
     "text": [
      "CPU times: user 1min 40s, sys: 2.26 s, total: 1min 42s\n",
      "Wall time: 1min 43s\n"
     ]
    }
   ],
   "source": [
    "%%time\n",
    "\n",
    "clf = LogisticRegression(C=1.0)\n",
    "clf.fit(X_train, y_train == pos_class)\n",
    "w_lr = clf.coef_.reshape(-1, 1)"
   ]
  },
  {
   "cell_type": "code",
   "execution_count": 129,
   "metadata": {},
   "outputs": [],
   "source": [
    "y_true = (y_test == pos_class)\n",
    "y_pred_pegasos = (X_test.dot(w_pegasos) > 0).T[0]\n",
    "y_pred_lr = (X_test.dot(w_lr) > 0).T[0]"
   ]
  },
  {
   "cell_type": "code",
   "execution_count": 130,
   "metadata": {},
   "outputs": [
    {
     "data": {
      "text/plain": [
       "Counter({False: 34301, True: 205})"
      ]
     },
     "execution_count": 130,
     "metadata": {},
     "output_type": "execute_result"
    }
   ],
   "source": [
    "collections.Counter(y_pred_pegasos)"
   ]
  },
  {
   "cell_type": "code",
   "execution_count": 131,
   "metadata": {},
   "outputs": [
    {
     "data": {
      "text/plain": [
       "Counter({False: 34201, True: 305})"
      ]
     },
     "execution_count": 131,
     "metadata": {},
     "output_type": "execute_result"
    }
   ],
   "source": [
    "collections.Counter(y_pred_lr)"
   ]
  },
  {
   "cell_type": "code",
   "execution_count": 132,
   "metadata": {},
   "outputs": [
    {
     "name": "stdout",
     "output_type": "stream",
     "text": [
      "             precision    recall  f1-score   support\n",
      "\n",
      "      False       0.99      1.00      1.00     34090\n",
      "       True       0.71      0.35      0.47       416\n",
      "\n",
      "avg / total       0.99      0.99      0.99     34506\n",
      "\n"
     ]
    }
   ],
   "source": [
    "print(classification_report(y_true, y_pred_pegasos))"
   ]
  },
  {
   "cell_type": "code",
   "execution_count": 133,
   "metadata": {},
   "outputs": [
    {
     "name": "stdout",
     "output_type": "stream",
     "text": [
      "             precision    recall  f1-score   support\n",
      "\n",
      "      False       0.99      1.00      0.99     34090\n",
      "       True       0.57      0.42      0.48       416\n",
      "\n",
      "avg / total       0.99      0.99      0.99     34506\n",
      "\n"
     ]
    }
   ],
   "source": [
    "print(classification_report(y_true, y_pred_lr))"
   ]
  },
  {
   "cell_type": "code",
   "execution_count": 134,
   "metadata": {},
   "outputs": [
    {
     "data": {
      "text/plain": [
       "array([[34031,    59],\n",
       "       [  270,   146]])"
      ]
     },
     "execution_count": 134,
     "metadata": {},
     "output_type": "execute_result"
    }
   ],
   "source": [
    "confusion_matrix(y_true, y_pred_pegasos)"
   ]
  },
  {
   "cell_type": "code",
   "execution_count": 135,
   "metadata": {},
   "outputs": [
    {
     "data": {
      "text/plain": [
       "array([[33959,   131],\n",
       "       [  242,   174]])"
      ]
     },
     "execution_count": 135,
     "metadata": {},
     "output_type": "execute_result"
    }
   ],
   "source": [
    "confusion_matrix(y_true, y_pred_lr)"
   ]
  },
  {
   "cell_type": "markdown",
   "metadata": {},
   "source": [
    "---"
   ]
  },
  {
   "cell_type": "code",
   "execution_count": 136,
   "metadata": {},
   "outputs": [
    {
     "name": "stderr",
     "output_type": "stream",
     "text": [
      "100%|██████████| 1500/1500 [04:47<00:00,  5.21it/s]\n"
     ]
    },
    {
     "name": "stdout",
     "output_type": "stream",
     "text": [
      "CPU times: user 4min 34s, sys: 11.9 s, total: 4min 46s\n",
      "Wall time: 4min 47s\n"
     ]
    }
   ],
   "source": [
    "%%time\n",
    "\n",
    "f1s_train = []\n",
    "f1s_test = []\n",
    "\n",
    "for w in tqdm(wvs):\n",
    "    w = w.reshape(-1, 1)\n",
    "    y_true = (y_train == pos_class)\n",
    "    y_pred = (X_train.dot(w) > 0).T[0]\n",
    "    f1s_train.append(f1_score(y_true, y_pred))\n",
    "    y_true = (y_test == pos_class)\n",
    "    y_pred = (X_test.dot(w) > 0).T[0]\n",
    "    f1s_test.append(f1_score(y_true, y_pred))"
   ]
  },
  {
   "cell_type": "code",
   "execution_count": 140,
   "metadata": {},
   "outputs": [
    {
     "data": {
      "text/plain": [
       "(4757,)"
      ]
     },
     "execution_count": 140,
     "metadata": {},
     "output_type": "execute_result"
    }
   ],
   "source": [
    "y_train[y_train == 11].shape"
   ]
  },
  {
   "cell_type": "code",
   "execution_count": 137,
   "metadata": {},
   "outputs": [
    {
     "data": {
      "image/png": "[encoded data removed]",
      "text/plain": [
       "<matplotlib.figure.Figure at 0x1193db438>"
      ]
     },
     "metadata": {},
     "output_type": "display_data"
    }
   ],
   "source": [
    "plt.figure(figsize=(16, 8))\n",
    "plt.plot(range(len(f1s_train)), f1s_train)\n",
    "plt.plot(range(len(f1s_test)), f1s_test)\n",
    "plt.title(\"DMOZ\")\n",
    "plt.ylabel(\"F1\")\n",
    "plt.xlabel(\"Number of trained objects * 10000\")\n",
    "plt.legend([\"train\", \"heldout\"], loc=\"lower right\")\n",
    "plt.savefig(\"DMOZ_binary.eps\", bbox_inches=\"tight\")\n",
    "plt.savefig(\"DMOZ_binary.png\", bbox_inches=\"tight\", dpi=300)"
   ]
  },
  {
   "cell_type": "markdown",
   "metadata": {},
   "source": [
    "---"
   ]
  },
  {
   "cell_type": "code",
   "execution_count": 189,
   "metadata": {},
   "outputs": [
    {
     "name": "stdout",
     "output_type": "stream",
     "text": [
      "CPU times: user 452 ms, sys: 850 ms, total: 1.3 s\n",
      "Wall time: 1.56 s\n"
     ]
    }
   ],
   "source": [
    "%%time\n",
    "\n",
    "with open(\"W_%s.dump\" % dataset_name, \"rb\") as fin:\n",
    "    W = pickle.load(fin)"
   ]
  },
  {
   "cell_type": "code",
   "execution_count": 190,
   "metadata": {},
   "outputs": [
    {
     "data": {
      "text/plain": [
       "array([-2.33177881e-05,  3.33111259e-06, -3.33111259e-06, ...,\n",
       "       -3.33111259e-06, -7.52181060e-08, -1.37005409e-05])"
      ]
     },
     "execution_count": 190,
     "metadata": {},
     "output_type": "execute_result"
    }
   ],
   "source": [
    "(W.m[0].data * W.a)"
   ]
  },
  {
   "cell_type": "code",
   "execution_count": 191,
   "metadata": {},
   "outputs": [
    {
     "data": {
      "text/plain": [
       "0.005079895252857461"
      ]
     },
     "execution_count": 191,
     "metadata": {},
     "output_type": "execute_result"
    }
   ],
   "source": [
    "W.snorm"
   ]
  },
  {
   "cell_type": "code",
   "execution_count": 192,
   "metadata": {},
   "outputs": [
    {
     "data": {
      "text/plain": [
       "0.005079895252857481"
      ]
     },
     "execution_count": 192,
     "metadata": {},
     "output_type": "execute_result"
    }
   ],
   "source": [
    "sum([np.dot(r.data, r.data) for r in W.m]) * (W.a * W.a)"
   ]
  },
  {
   "cell_type": "code",
   "execution_count": 193,
   "metadata": {},
   "outputs": [
    {
     "name": "stdout",
     "output_type": "stream",
     "text": [
      "CPU times: user 180 ms, sys: 35 ms, total: 215 ms\n",
      "Wall time: 219 ms\n"
     ]
    }
   ],
   "source": [
    "%time Ws = ss.vstack(W.m)"
   ]
  },
  {
   "cell_type": "code",
   "execution_count": 194,
   "metadata": {},
   "outputs": [
    {
     "data": {
      "text/plain": [
       "[(12, 2863),\n",
       " (33, 849),\n",
       " (212, 824),\n",
       " (0, 755),\n",
       " (340, 510),\n",
       " (702, 434),\n",
       " (3, 432),\n",
       " (255, 389),\n",
       " (627, 383),\n",
       " (196, 370),\n",
       " (172, 335),\n",
       " (101, 329),\n",
       " (699, 328),\n",
       " (636, 315),\n",
       " (210, 311),\n",
       " (240, 286),\n",
       " (220, 281),\n",
       " (753, 270),\n",
       " (1343, 267),\n",
       " (149, 265)]"
      ]
     },
     "execution_count": 194,
     "metadata": {},
     "output_type": "execute_result"
    }
   ],
   "source": [
    "collections.Counter(y_train).most_common(20)"
   ]
  },
  {
   "cell_type": "code",
   "execution_count": 195,
   "metadata": {},
   "outputs": [
    {
     "data": {
      "text/plain": [
       "<12294x409775 sparse matrix of type '<class 'numpy.float64'>'\n",
       "\twith 7769278 stored elements in Compressed Sparse Row format>"
      ]
     },
     "execution_count": 195,
     "metadata": {},
     "output_type": "execute_result"
    }
   ],
   "source": [
    "Ws"
   ]
  },
  {
   "cell_type": "markdown",
   "metadata": {},
   "source": [
    "---"
   ]
  },
  {
   "cell_type": "code",
   "execution_count": 196,
   "metadata": {},
   "outputs": [],
   "source": [
    "num_candidates = 1\n",
    "num_threads = 4"
   ]
  },
  {
   "cell_type": "code",
   "execution_count": 197,
   "metadata": {},
   "outputs": [
    {
     "name": "stdout",
     "output_type": "stream",
     "text": [
      "CPU times: user 3 µs, sys: 0 ns, total: 3 µs\n",
      "Wall time: 7.15 µs\n"
     ]
    }
   ],
   "source": [
    "%time\n",
    "\n",
    "ix_nz = [i for i, v in enumerate(Ws) if v.nnz != 0]\n",
    "Ws_nz = Ws[ix_nz]\n",
    "nz_to_z = {k: v for k, v in enumerate(ix_nz)}"
   ]
  },
  {
   "cell_type": "code",
   "execution_count": 207,
   "metadata": {},
   "outputs": [
    {
     "name": "stdout",
     "output_type": "stream",
     "text": [
      "CPU times: user 4min 46s, sys: 537 ms, total: 4min 47s\n",
      "Wall time: 1min 23s\n"
     ]
    }
   ],
   "source": [
    "%%time\n",
    "\n",
    "index = nmslib.init(method=\"hnsw\", space=\"cosinesimil_sparse\",\n",
    "                    data_type=nmslib.DataType.SPARSE_VECTOR)\n",
    "index.addDataPointBatch(Ws_nz)\n",
    "index.createIndex({\"indexThreadQty\": num_threads})"
   ]
  },
  {
   "cell_type": "code",
   "execution_count": 208,
   "metadata": {},
   "outputs": [],
   "source": [
    "def chunks(l, n):\n",
    "    \"\"\"Yield successive n-sized chunks from l.\"\"\"\n",
    "    for i in range(0, l.shape[0], n):\n",
    "        yield l[i:i + n]"
   ]
  },
  {
   "cell_type": "code",
   "execution_count": 209,
   "metadata": {},
   "outputs": [],
   "source": [
    "chunk_size = 1000\n",
    "\n",
    "def predict(X):\n",
    "    y_pred = []\n",
    "    for x_chunk in tqdm(chunks(X, chunk_size)):\n",
    "        results = index.knnQueryBatch(x_chunk, k=num_candidates, num_threads=num_threads)\n",
    "        for x, (nn_ids, _) in zip(x_chunk, results):\n",
    "            # ix = np.argmax(cosine_similarity(Ws_nz[nn_ids], x).T[0])\n",
    "            # ix = np.argmax(safe_sparse_dot(Ws_nz[nn_ids], x.T, dense_output=True).T[0])\n",
    "            ix = 0\n",
    "            class_id = nz_to_z[nn_ids[ix]]\n",
    "            y_pred.append(class_id)\n",
    "    return y_pred"
   ]
  },
  {
   "cell_type": "markdown",
   "metadata": {},
   "source": [
    "---"
   ]
  },
  {
   "cell_type": "markdown",
   "metadata": {},
   "source": [
    "#### Train quality:"
   ]
  },
  {
   "cell_type": "code",
   "execution_count": null,
   "metadata": {},
   "outputs": [],
   "source": [
    "%time y_pred_train = predict(X_train)"
   ]
  },
  {
   "cell_type": "code",
   "execution_count": null,
   "metadata": {},
   "outputs": [],
   "source": [
    "%time f1_score(y_train, y_pred_train, average=\"macro\")"
   ]
  },
  {
   "cell_type": "code",
   "execution_count": null,
   "metadata": {},
   "outputs": [],
   "source": [
    "%time f1_score(y_train, y_pred_train, average=\"micro\")"
   ]
  },
  {
   "cell_type": "markdown",
   "metadata": {},
   "source": [
    "---"
   ]
  },
  {
   "cell_type": "markdown",
   "metadata": {},
   "source": [
    "#### Test quality:"
   ]
  },
  {
   "cell_type": "code",
   "execution_count": 213,
   "metadata": {},
   "outputs": [
    {
     "name": "stderr",
     "output_type": "stream",
     "text": [
      "32it [00:18,  1.73it/s]"
     ]
    },
    {
     "name": "stdout",
     "output_type": "stream",
     "text": [
      "CPU times: user 59.7 s, sys: 126 ms, total: 59.8 s\n",
      "Wall time: 18.5 s\n"
     ]
    },
    {
     "name": "stderr",
     "output_type": "stream",
     "text": [
      "\n"
     ]
    }
   ],
   "source": [
    "%time y_pred_test = predict(X_test)"
   ]
  },
  {
   "cell_type": "code",
   "execution_count": 214,
   "metadata": {},
   "outputs": [
    {
     "name": "stdout",
     "output_type": "stream",
     "text": [
      "CPU times: user 32.6 ms, sys: 1.61 ms, total: 34.2 ms\n",
      "Wall time: 33.6 ms\n"
     ]
    },
    {
     "name": "stderr",
     "output_type": "stream",
     "text": [
      "/usr/local/lib/python3.6/site-packages/sklearn/metrics/classification.py:1135: UndefinedMetricWarning: F-score is ill-defined and being set to 0.0 in labels with no predicted samples.\n",
      "  'precision', 'predicted', average, warn_for)\n",
      "/usr/local/lib/python3.6/site-packages/sklearn/metrics/classification.py:1137: UndefinedMetricWarning: F-score is ill-defined and being set to 0.0 in labels with no true samples.\n",
      "  'recall', 'true', average, warn_for)\n"
     ]
    },
    {
     "data": {
      "text/plain": [
       "0.0646370073303858"
      ]
     },
     "execution_count": 214,
     "metadata": {},
     "output_type": "execute_result"
    }
   ],
   "source": [
    "%time f1_score(y_test, y_pred_test, average=\"macro\")"
   ]
  },
  {
   "cell_type": "code",
   "execution_count": 215,
   "metadata": {},
   "outputs": [
    {
     "name": "stdout",
     "output_type": "stream",
     "text": [
      "CPU times: user 34.7 ms, sys: 1.92 ms, total: 36.6 ms\n",
      "Wall time: 36.3 ms\n"
     ]
    },
    {
     "data": {
      "text/plain": [
       "0.0754145910839271"
      ]
     },
     "execution_count": 215,
     "metadata": {},
     "output_type": "execute_result"
    }
   ],
   "source": [
    "%time f1_score(y_test, y_pred_test, average=\"micro\")"
   ]
  },
  {
   "cell_type": "markdown",
   "metadata": {},
   "source": [
    "---"
   ]
  },
  {
   "cell_type": "markdown",
   "metadata": {},
   "source": [
    "#### Heldout quality:"
   ]
  },
  {
   "cell_type": "code",
   "execution_count": 210,
   "metadata": {},
   "outputs": [
    {
     "name": "stderr",
     "output_type": "stream",
     "text": [
      "5it [00:02,  1.68it/s]"
     ]
    },
    {
     "name": "stdout",
     "output_type": "stream",
     "text": [
      "CPU times: user 9.59 s, sys: 27.5 ms, total: 9.62 s\n",
      "Wall time: 2.99 s\n"
     ]
    },
    {
     "name": "stderr",
     "output_type": "stream",
     "text": [
      "\n"
     ]
    }
   ],
   "source": [
    "%time y_pred_heldout = predict(X_heldout)"
   ]
  },
  {
   "cell_type": "code",
   "execution_count": 211,
   "metadata": {},
   "outputs": [
    {
     "name": "stdout",
     "output_type": "stream",
     "text": [
      "CPU times: user 7.38 ms, sys: 2.21 ms, total: 9.59 ms\n",
      "Wall time: 7.74 ms\n"
     ]
    },
    {
     "name": "stderr",
     "output_type": "stream",
     "text": [
      "/usr/local/lib/python3.6/site-packages/sklearn/metrics/classification.py:1135: UndefinedMetricWarning: F-score is ill-defined and being set to 0.0 in labels with no predicted samples.\n",
      "  'precision', 'predicted', average, warn_for)\n",
      "/usr/local/lib/python3.6/site-packages/sklearn/metrics/classification.py:1137: UndefinedMetricWarning: F-score is ill-defined and being set to 0.0 in labels with no true samples.\n",
      "  'recall', 'true', average, warn_for)\n"
     ]
    },
    {
     "data": {
      "text/plain": [
       "0.06043837593309581"
      ]
     },
     "execution_count": 211,
     "metadata": {},
     "output_type": "execute_result"
    }
   ],
   "source": [
    "%time f1_score(y_heldout, y_pred_heldout, average=\"macro\")"
   ]
  },
  {
   "cell_type": "code",
   "execution_count": 212,
   "metadata": {},
   "outputs": [
    {
     "name": "stdout",
     "output_type": "stream",
     "text": [
      "CPU times: user 7.3 ms, sys: 980 µs, total: 8.28 ms\n",
      "Wall time: 7.35 ms\n"
     ]
    },
    {
     "data": {
      "text/plain": [
       "0.0776"
      ]
     },
     "execution_count": 212,
     "metadata": {},
     "output_type": "execute_result"
    }
   ],
   "source": [
    "%time f1_score(y_heldout, y_pred_heldout, average=\"micro\")"
   ]
  },
  {
   "cell_type": "markdown",
   "metadata": {},
   "source": [
    "---"
   ]
  },
  {
   "cell_type": "code",
   "execution_count": 147,
   "metadata": {},
   "outputs": [
    {
     "data": {
      "text/plain": [
       "0.004194435218481212"
      ]
     },
     "execution_count": 147,
     "metadata": {},
     "output_type": "execute_result"
    }
   ],
   "source": [
    "sum([x.nnz for x in W.m]) / (len(W.m) * W.m[0].shape[1])"
   ]
  },
  {
   "cell_type": "markdown",
   "metadata": {},
   "source": [
    "---"
   ]
  },
  {
   "cell_type": "code",
   "execution_count": 229,
   "metadata": {},
   "outputs": [
    {
     "data": {
      "image/png": "[encoded data removed]",
      "text/plain": [
       "<matplotlib.figure.Figure at 0x10ce42470>"
      ]
     },
     "metadata": {},
     "output_type": "display_data"
    }
   ],
   "source": [
    "log_dataset_name = \"LSHTC1\"\n",
    "\n",
    "log = pd.read_csv(\"log_%s.txt\" % log_dataset_name)\n",
    "fig, axes = plt.subplots(1, 2, figsize=(16, 8), sharey=True)\n",
    "plt.suptitle(log_dataset_name)\n",
    "axes[0].set_ylabel(\"Holdout MaF1\")\n",
    "axes[0].set_xlabel(\"Iteration, #\")\n",
    "axes[1].set_xlabel(\"Learning time, sec\")\n",
    "axes[0].plot(log[\"i\"], log[\"maf1\"])\n",
    "axes[1].plot(log[\"learning_time\"], log[\"maf1\"])\n",
    "plt.savefig(\"fig_%s.png\" % log_dataset_name, dpi=300, bbox_inches=\"tight\")\n",
    "plt.show()"
   ]
  },
  {
   "cell_type": "markdown",
   "metadata": {},
   "source": [
    "---"
   ]
  }
 ],
 "metadata": {
  "kernelspec": {
   "display_name": "Python 3",
   "language": "python",
   "name": "python3"
  },
  "language_info": {
   "codemirror_mode": {
    "name": "ipython",
    "version": 3
   },
   "file_extension": ".py",
   "mimetype": "text/x-python",
   "name": "python",
   "nbconvert_exporter": "python",
   "pygments_lexer": "ipython3",
   "version": "3.6.4"
  }
 },
 "nbformat": 4,
 "nbformat_minor": 2
}
